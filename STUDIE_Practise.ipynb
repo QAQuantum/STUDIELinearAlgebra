{
  "nbformat": 4,
  "nbformat_minor": 0,
  "metadata": {
    "colab": {
      "provenance": []
    },
    "kernelspec": {
      "name": "python3",
      "display_name": "Python 3"
    },
    "language_info": {
      "name": "python"
    }
  },
  "cells": [
    {
      "cell_type": "code",
      "execution_count": 220,
      "metadata": {
        "id": "L26dZx2EoZyR"
      },
      "outputs": [],
      "source": [
        "import numpy as np\n",
        "import matplotlib.pyplot as plt\n",
        "import torch\n",
        "import math"
      ]
    },
    {
      "cell_type": "code",
      "source": [
        "t = np.linspace(0,40,1000)"
      ],
      "metadata": {
        "id": "9vds1je1odSN"
      },
      "execution_count": 111,
      "outputs": []
    },
    {
      "cell_type": "code",
      "source": [
        "d_r =  2.5 * t\n",
        "d_s = 3 * (t-5)"
      ],
      "metadata": {
        "id": "ruc9frPaodVE"
      },
      "execution_count": 112,
      "outputs": []
    },
    {
      "cell_type": "code",
      "source": [
        "# RUN L2 NORM Idea\n",
        "x =  np.array([25,2,2])\n",
        "x"
      ],
      "metadata": {
        "colab": {
          "base_uri": "https://localhost:8080/"
        },
        "id": "KniHBT4zodX9",
        "outputId": "9560cbcb-d12b-4a0f-d1cb-4c623aab6670"
      },
      "execution_count": 113,
      "outputs": [
        {
          "output_type": "execute_result",
          "data": {
            "text/plain": [
              "array([25,  2,  2])"
            ]
          },
          "metadata": {},
          "execution_count": 113
        }
      ]
    },
    {
      "cell_type": "code",
      "source": [
        "(25**2 + 2**2 + 2**2)**(1/2)"
      ],
      "metadata": {
        "colab": {
          "base_uri": "https://localhost:8080/"
        },
        "id": "RWmkxzg4odaP",
        "outputId": "59a71960-79e3-4d7d-a727-c487b695201e"
      },
      "execution_count": 114,
      "outputs": [
        {
          "output_type": "execute_result",
          "data": {
            "text/plain": [
              "25.15949125081825"
            ]
          },
          "metadata": {},
          "execution_count": 114
        }
      ]
    },
    {
      "cell_type": "code",
      "source": [
        "xx =  np.array([25,2,3,4])\n",
        "xx"
      ],
      "metadata": {
        "colab": {
          "base_uri": "https://localhost:8080/"
        },
        "id": "6ztpbxlToddI",
        "outputId": "2ec2b003-2da6-46ad-d1fa-21bf906ef2d4"
      },
      "execution_count": 115,
      "outputs": [
        {
          "output_type": "execute_result",
          "data": {
            "text/plain": [
              "array([25,  2,  3,  4])"
            ]
          },
          "metadata": {},
          "execution_count": 115
        }
      ]
    },
    {
      "cell_type": "code",
      "source": [
        "(25**2 + 2**2 + 3**2 + 4**2)**(1/2)"
      ],
      "metadata": {
        "colab": {
          "base_uri": "https://localhost:8080/"
        },
        "id": "Ga5bqim9odf1",
        "outputId": "24273af0-85e4-49fe-b78e-e3a8a331360f"
      },
      "execution_count": 116,
      "outputs": [
        {
          "output_type": "execute_result",
          "data": {
            "text/plain": [
              "25.573423705088842"
            ]
          },
          "metadata": {},
          "execution_count": 116
        }
      ]
    },
    {
      "cell_type": "code",
      "source": [
        "# automatically  do a L2 NORMALIZE  using python library\n",
        "np.linalg.norm(x)"
      ],
      "metadata": {
        "colab": {
          "base_uri": "https://localhost:8080/"
        },
        "id": "bCYXjiUqodkU",
        "outputId": "85f3c381-d271-4ef0-8682-44a73635f798"
      },
      "execution_count": 117,
      "outputs": [
        {
          "output_type": "execute_result",
          "data": {
            "text/plain": [
              "25.15949125081825"
            ]
          },
          "metadata": {},
          "execution_count": 117
        }
      ]
    },
    {
      "cell_type": "code",
      "source": [
        "# RUN L1 NORM IDEA\n",
        "x =  np.array([25.22,-2,2.34])\n",
        "x"
      ],
      "metadata": {
        "colab": {
          "base_uri": "https://localhost:8080/"
        },
        "id": "9gq9j9pVodm_",
        "outputId": "98d0afc1-0339-4840-8011-1365caa983d5"
      },
      "execution_count": 118,
      "outputs": [
        {
          "output_type": "execute_result",
          "data": {
            "text/plain": [
              "array([25.22, -2.  ,  2.34])"
            ]
          },
          "metadata": {},
          "execution_count": 118
        }
      ]
    },
    {
      "cell_type": "code",
      "source": [
        "np.abs(25) + np.abs(-2) + np.abs(2)"
      ],
      "metadata": {
        "colab": {
          "base_uri": "https://localhost:8080/"
        },
        "id": "giPwcNJGApzp",
        "outputId": "50a82eb1-35b3-4ef9-ec2a-d2bc17a83307"
      },
      "execution_count": 119,
      "outputs": [
        {
          "output_type": "execute_result",
          "data": {
            "text/plain": [
              "29"
            ]
          },
          "metadata": {},
          "execution_count": 119
        }
      ]
    },
    {
      "cell_type": "code",
      "source": [
        "# RUN Squared L2 Norm\n",
        "x =  np.array([25,2,2])\n",
        "x"
      ],
      "metadata": {
        "colab": {
          "base_uri": "https://localhost:8080/"
        },
        "id": "WYLJpv0hAp2l",
        "outputId": "5e1014d5-6552-48a1-c2ef-715dada6c4ee"
      },
      "execution_count": 120,
      "outputs": [
        {
          "output_type": "execute_result",
          "data": {
            "text/plain": [
              "array([25,  2,  2])"
            ]
          },
          "metadata": {},
          "execution_count": 120
        }
      ]
    },
    {
      "cell_type": "code",
      "source": [
        "np.dot(x,x)"
      ],
      "metadata": {
        "colab": {
          "base_uri": "https://localhost:8080/"
        },
        "id": "s701KB9sAp5g",
        "outputId": "8a80f81d-9eca-43e0-a24d-f7a0652e2cd4"
      },
      "execution_count": 121,
      "outputs": [
        {
          "output_type": "execute_result",
          "data": {
            "text/plain": [
              "633"
            ]
          },
          "metadata": {},
          "execution_count": 121
        }
      ]
    },
    {
      "cell_type": "code",
      "source": [
        "# MAX NORM\n",
        "x =  np.array([25,2,2])\n",
        "x"
      ],
      "metadata": {
        "colab": {
          "base_uri": "https://localhost:8080/"
        },
        "id": "T9W_74SlAp8k",
        "outputId": "96d98b7a-dca9-4aa0-8117-46c9edb5c5a4"
      },
      "execution_count": 122,
      "outputs": [
        {
          "output_type": "execute_result",
          "data": {
            "text/plain": [
              "array([25,  2,  2])"
            ]
          },
          "metadata": {},
          "execution_count": 122
        }
      ]
    },
    {
      "cell_type": "code",
      "source": [
        "np.max(x)"
      ],
      "metadata": {
        "colab": {
          "base_uri": "https://localhost:8080/"
        },
        "id": "j_s5sbmQAqAA",
        "outputId": "c58260e8-be72-4960-d872-60ecf4a16bc9"
      },
      "execution_count": 123,
      "outputs": [
        {
          "output_type": "execute_result",
          "data": {
            "text/plain": [
              "25"
            ]
          },
          "metadata": {},
          "execution_count": 123
        }
      ]
    },
    {
      "cell_type": "code",
      "source": [
        "x = np.array([[1,2,3],[4,5,6]])\n",
        "x"
      ],
      "metadata": {
        "colab": {
          "base_uri": "https://localhost:8080/"
        },
        "id": "JRlVgzUKAqCV",
        "outputId": "1dc98c80-e4a4-4410-be9c-be6059397981"
      },
      "execution_count": 124,
      "outputs": [
        {
          "output_type": "execute_result",
          "data": {
            "text/plain": [
              "array([[1, 2, 3],\n",
              "       [4, 5, 6]])"
            ]
          },
          "metadata": {},
          "execution_count": 124
        }
      ]
    },
    {
      "cell_type": "code",
      "source": [
        "x[:,1]"
      ],
      "metadata": {
        "colab": {
          "base_uri": "https://localhost:8080/"
        },
        "id": "ZeB_bCP_AqEs",
        "outputId": "d9956ebf-d528-4286-cbb7-7236fa51d1a6"
      },
      "execution_count": 125,
      "outputs": [
        {
          "output_type": "execute_result",
          "data": {
            "text/plain": [
              "array([2, 5])"
            ]
          },
          "metadata": {},
          "execution_count": 125
        }
      ]
    },
    {
      "cell_type": "code",
      "source": [
        "x[1,:]"
      ],
      "metadata": {
        "colab": {
          "base_uri": "https://localhost:8080/"
        },
        "id": "bBzqloCSAqGl",
        "outputId": "cee2777f-3cfe-4d7f-c934-342d72fb06f8"
      },
      "execution_count": 126,
      "outputs": [
        {
          "output_type": "execute_result",
          "data": {
            "text/plain": [
              "array([4, 5, 6])"
            ]
          },
          "metadata": {},
          "execution_count": 126
        }
      ]
    },
    {
      "cell_type": "code",
      "source": [
        "# REDUCTION\n"
      ],
      "metadata": {
        "id": "B73CJJVbAqJD"
      },
      "execution_count": 127,
      "outputs": []
    },
    {
      "cell_type": "code",
      "source": [
        "x =  np.array([[2,3],[4,5],[6,7]])\n",
        "x"
      ],
      "metadata": {
        "colab": {
          "base_uri": "https://localhost:8080/"
        },
        "id": "Q100ymbxodpl",
        "outputId": "b9e8fe74-1b34-498d-9a3b-64306db7e028"
      },
      "execution_count": 128,
      "outputs": [
        {
          "output_type": "execute_result",
          "data": {
            "text/plain": [
              "array([[2, 3],\n",
              "       [4, 5],\n",
              "       [6, 7]])"
            ]
          },
          "metadata": {},
          "execution_count": 128
        }
      ]
    },
    {
      "cell_type": "code",
      "source": [
        "x.sum()"
      ],
      "metadata": {
        "colab": {
          "base_uri": "https://localhost:8080/"
        },
        "id": "M4bvX9nyWAvw",
        "outputId": "8739a69c-cd3a-4842-a335-f6d056302141"
      },
      "execution_count": 129,
      "outputs": [
        {
          "output_type": "execute_result",
          "data": {
            "text/plain": [
              "27"
            ]
          },
          "metadata": {},
          "execution_count": 129
        }
      ]
    },
    {
      "cell_type": "code",
      "source": [
        "X_torch = torch.asarray([[2,3],[4,5],[6,7]])\n",
        "X_torch"
      ],
      "metadata": {
        "colab": {
          "base_uri": "https://localhost:8080/"
        },
        "id": "bgctQJqlW2WW",
        "outputId": "4fcb715e-623e-4258-acfd-96554fe5f30e"
      },
      "execution_count": 130,
      "outputs": [
        {
          "output_type": "execute_result",
          "data": {
            "text/plain": [
              "tensor([[2, 3],\n",
              "        [4, 5],\n",
              "        [6, 7]])"
            ]
          },
          "metadata": {},
          "execution_count": 130
        }
      ]
    },
    {
      "cell_type": "code",
      "source": [
        "torch.sum(X_torch)"
      ],
      "metadata": {
        "colab": {
          "base_uri": "https://localhost:8080/"
        },
        "id": "6hc9AYS0WAy3",
        "outputId": "8a34299c-f3da-4dd4-b442-4438619fc5f1"
      },
      "execution_count": 131,
      "outputs": [
        {
          "output_type": "execute_result",
          "data": {
            "text/plain": [
              "tensor(27)"
            ]
          },
          "metadata": {},
          "execution_count": 131
        }
      ]
    },
    {
      "cell_type": "code",
      "source": [
        "# DOT PRoduct in ML and DL\n",
        "# Say 2 Vectors\n",
        "x = np.array([2,3,4])\n",
        "y =  np.array([4,3,2])"
      ],
      "metadata": {
        "id": "WiVH2WYJWA1V"
      },
      "execution_count": 132,
      "outputs": []
    },
    {
      "cell_type": "code",
      "source": [
        "x"
      ],
      "metadata": {
        "colab": {
          "base_uri": "https://localhost:8080/"
        },
        "id": "k8v4i26iWA4F",
        "outputId": "2d1307b2-4534-48ba-a58d-bbd0175db481"
      },
      "execution_count": 133,
      "outputs": [
        {
          "output_type": "execute_result",
          "data": {
            "text/plain": [
              "array([2, 3, 4])"
            ]
          },
          "metadata": {},
          "execution_count": 133
        }
      ]
    },
    {
      "cell_type": "code",
      "source": [
        "y"
      ],
      "metadata": {
        "colab": {
          "base_uri": "https://localhost:8080/"
        },
        "id": "DFxjcrLdWA6i",
        "outputId": "3a003e5e-c20f-4b17-9c35-7c54fc36c059"
      },
      "execution_count": 134,
      "outputs": [
        {
          "output_type": "execute_result",
          "data": {
            "text/plain": [
              "array([4, 3, 2])"
            ]
          },
          "metadata": {},
          "execution_count": 134
        }
      ]
    },
    {
      "cell_type": "code",
      "source": [
        "np.dot(x,y)"
      ],
      "metadata": {
        "colab": {
          "base_uri": "https://localhost:8080/"
        },
        "id": "1fmRHS9hWA9Q",
        "outputId": "03184560-779c-42d8-c92c-4953bdc5ee72"
      },
      "execution_count": 135,
      "outputs": [
        {
          "output_type": "execute_result",
          "data": {
            "text/plain": [
              "25"
            ]
          },
          "metadata": {},
          "execution_count": 135
        }
      ]
    },
    {
      "cell_type": "code",
      "source": [
        "XP = np.linspace(-10,10,2000)\n",
        "XP"
      ],
      "metadata": {
        "colab": {
          "base_uri": "https://localhost:8080/"
        },
        "id": "tF6cVvdGWA_5",
        "outputId": "b7654404-a30b-4306-ef8c-8656dc3d4f18"
      },
      "execution_count": 136,
      "outputs": [
        {
          "output_type": "execute_result",
          "data": {
            "text/plain": [
              "array([-10.        ,  -9.989995  ,  -9.97998999, ...,   9.97998999,\n",
              "         9.989995  ,  10.        ])"
            ]
          },
          "metadata": {},
          "execution_count": 136
        }
      ]
    },
    {
      "cell_type": "code",
      "source": [
        "#Frebenous NORM"
      ],
      "metadata": {
        "id": "qycuX4_6WBCT"
      },
      "execution_count": 137,
      "outputs": []
    },
    {
      "cell_type": "code",
      "source": [
        "Xfn = np.array([[2,3], [4,5]])\n",
        "Xfn"
      ],
      "metadata": {
        "colab": {
          "base_uri": "https://localhost:8080/"
        },
        "id": "Y-f92PBwWBFR",
        "outputId": "38193550-4e26-4143-aab5-a058f4b2445e"
      },
      "execution_count": 138,
      "outputs": [
        {
          "output_type": "execute_result",
          "data": {
            "text/plain": [
              "array([[2, 3],\n",
              "       [4, 5]])"
            ]
          },
          "metadata": {},
          "execution_count": 138
        }
      ]
    },
    {
      "cell_type": "code",
      "source": [
        "np.linalg.norm(Xfn)"
      ],
      "metadata": {
        "colab": {
          "base_uri": "https://localhost:8080/"
        },
        "id": "xe7-N_rZWBIc",
        "outputId": "0bc103ef-8682-4696-8c87-3302221f9643"
      },
      "execution_count": 139,
      "outputs": [
        {
          "output_type": "execute_result",
          "data": {
            "text/plain": [
              "7.3484692283495345"
            ]
          },
          "metadata": {},
          "execution_count": 139
        }
      ]
    },
    {
      "cell_type": "code",
      "source": [
        "Xsym =  np.array([[1,2,3],[4,5,6],[7,8,9]])\n",
        "Xsym"
      ],
      "metadata": {
        "colab": {
          "base_uri": "https://localhost:8080/"
        },
        "id": "iUDIKNl5WBKd",
        "outputId": "e2f1dbdd-5883-48a7-eca0-f7371b592bcf"
      },
      "execution_count": 140,
      "outputs": [
        {
          "output_type": "execute_result",
          "data": {
            "text/plain": [
              "array([[1, 2, 3],\n",
              "       [4, 5, 6],\n",
              "       [7, 8, 9]])"
            ]
          },
          "metadata": {},
          "execution_count": 140
        }
      ]
    },
    {
      "cell_type": "code",
      "source": [
        "Xsym.T"
      ],
      "metadata": {
        "colab": {
          "base_uri": "https://localhost:8080/"
        },
        "id": "xVBWruv7LNIq",
        "outputId": "668e9ff4-ab0e-460e-b83c-8881d844fb18"
      },
      "execution_count": 141,
      "outputs": [
        {
          "output_type": "execute_result",
          "data": {
            "text/plain": [
              "array([[1, 4, 7],\n",
              "       [2, 5, 8],\n",
              "       [3, 6, 9]])"
            ]
          },
          "metadata": {},
          "execution_count": 141
        }
      ]
    },
    {
      "cell_type": "code",
      "source": [
        "Xsym == Xsym.T"
      ],
      "metadata": {
        "colab": {
          "base_uri": "https://localhost:8080/"
        },
        "id": "2zSxa62eLNLh",
        "outputId": "bf6b9bc2-691a-4cd8-8bb2-467d3c73f415"
      },
      "execution_count": 142,
      "outputs": [
        {
          "output_type": "execute_result",
          "data": {
            "text/plain": [
              "array([[ True, False, False],\n",
              "       [False,  True, False],\n",
              "       [False, False,  True]])"
            ]
          },
          "metadata": {},
          "execution_count": 142
        }
      ]
    },
    {
      "cell_type": "code",
      "source": [
        "XidentifyM =  np.array([[1,0,0,0],[0,1,0,0],[0,0,1,0],[0,0,0,1]])\n",
        "XidentifyM"
      ],
      "metadata": {
        "colab": {
          "base_uri": "https://localhost:8080/"
        },
        "id": "jdzcy1_ALNOf",
        "outputId": "f28e34e6-2b31-4c1e-a88a-46d747302f0b"
      },
      "execution_count": 143,
      "outputs": [
        {
          "output_type": "execute_result",
          "data": {
            "text/plain": [
              "array([[1, 0, 0, 0],\n",
              "       [0, 1, 0, 0],\n",
              "       [0, 0, 1, 0],\n",
              "       [0, 0, 0, 1]])"
            ]
          },
          "metadata": {},
          "execution_count": 143
        }
      ]
    },
    {
      "cell_type": "code",
      "source": [
        "XidentifyM.T"
      ],
      "metadata": {
        "colab": {
          "base_uri": "https://localhost:8080/"
        },
        "id": "fzKdhUSsLNRA",
        "outputId": "8cd8faf8-66ea-4f23-80f4-ab07d5594db8"
      },
      "execution_count": 144,
      "outputs": [
        {
          "output_type": "execute_result",
          "data": {
            "text/plain": [
              "array([[1, 0, 0, 0],\n",
              "       [0, 1, 0, 0],\n",
              "       [0, 0, 1, 0],\n",
              "       [0, 0, 0, 1]])"
            ]
          },
          "metadata": {},
          "execution_count": 144
        }
      ]
    },
    {
      "cell_type": "code",
      "source": [
        "XidentifyM == XidentifyM.T"
      ],
      "metadata": {
        "colab": {
          "base_uri": "https://localhost:8080/"
        },
        "id": "XHyh2FF_LNTp",
        "outputId": "ff59ae85-ae2f-4cae-ca10-dab1cf4267ce"
      },
      "execution_count": 145,
      "outputs": [
        {
          "output_type": "execute_result",
          "data": {
            "text/plain": [
              "array([[ True,  True,  True,  True],\n",
              "       [ True,  True,  True,  True],\n",
              "       [ True,  True,  True,  True],\n",
              "       [ True,  True,  True,  True]])"
            ]
          },
          "metadata": {},
          "execution_count": 145
        }
      ]
    },
    {
      "cell_type": "code",
      "source": [
        "Xmat = np.array([2,3,4,5])\n",
        "Xmat"
      ],
      "metadata": {
        "colab": {
          "base_uri": "https://localhost:8080/"
        },
        "id": "2Q-8Enq8LNWT",
        "outputId": "fbf71842-9bb3-496e-ea78-737079929edc"
      },
      "execution_count": 146,
      "outputs": [
        {
          "output_type": "execute_result",
          "data": {
            "text/plain": [
              "array([2, 3, 4, 5])"
            ]
          },
          "metadata": {},
          "execution_count": 146
        }
      ]
    },
    {
      "cell_type": "code",
      "source": [
        "np.dot(XidentifyM, Xmat)"
      ],
      "metadata": {
        "colab": {
          "base_uri": "https://localhost:8080/"
        },
        "id": "hTaaRKZVhTf5",
        "outputId": "91cb3b11-2545-4f18-a2f9-5921bc7dcb16"
      },
      "execution_count": 147,
      "outputs": [
        {
          "output_type": "execute_result",
          "data": {
            "text/plain": [
              "array([2, 3, 4, 5])"
            ]
          },
          "metadata": {},
          "execution_count": 147
        }
      ]
    },
    {
      "cell_type": "code",
      "source": [
        "Xnew =  np.array([[3,4],[5,60]])\n",
        "Xnew"
      ],
      "metadata": {
        "colab": {
          "base_uri": "https://localhost:8080/"
        },
        "id": "rP3TsV6ShTij",
        "outputId": "39d9ef14-c43f-4885-9f2e-68689c023e98"
      },
      "execution_count": 148,
      "outputs": [
        {
          "output_type": "execute_result",
          "data": {
            "text/plain": [
              "array([[ 3,  4],\n",
              "       [ 5, 60]])"
            ]
          },
          "metadata": {},
          "execution_count": 148
        }
      ]
    },
    {
      "cell_type": "code",
      "source": [
        "np.linalg.inv(Xnew)"
      ],
      "metadata": {
        "colab": {
          "base_uri": "https://localhost:8080/"
        },
        "id": "SBmaUSObhTnZ",
        "outputId": "c1d974d4-4df0-4b62-bf79-9925fde613bb"
      },
      "execution_count": 149,
      "outputs": [
        {
          "output_type": "execute_result",
          "data": {
            "text/plain": [
              "array([[ 0.375  , -0.025  ],\n",
              "       [-0.03125,  0.01875]])"
            ]
          },
          "metadata": {},
          "execution_count": 149
        }
      ]
    },
    {
      "cell_type": "code",
      "source": [
        "# X * Xinversion =  Identity Matrix (output)\n",
        "IdentityM = Xnew * np.linalg.inv(Xnew)"
      ],
      "metadata": {
        "id": "AMjYA_qAhTqZ"
      },
      "execution_count": 150,
      "outputs": []
    },
    {
      "cell_type": "code",
      "source": [
        "IdentityM"
      ],
      "metadata": {
        "colab": {
          "base_uri": "https://localhost:8080/"
        },
        "id": "x_8YMqKrhTtE",
        "outputId": "8294fb26-cfbc-464e-8a3b-c760ecbe5c72"
      },
      "execution_count": 151,
      "outputs": [
        {
          "output_type": "execute_result",
          "data": {
            "text/plain": [
              "array([[ 1.125  , -0.1    ],\n",
              "       [-0.15625,  1.125  ]])"
            ]
          },
          "metadata": {},
          "execution_count": 151
        }
      ]
    },
    {
      "cell_type": "code",
      "source": [
        "IdentityM.T"
      ],
      "metadata": {
        "colab": {
          "base_uri": "https://localhost:8080/"
        },
        "id": "JbkaNB4KhTxc",
        "outputId": "31e6456e-e9e3-4eeb-b7fa-bdc50a1c653a"
      },
      "execution_count": 152,
      "outputs": [
        {
          "output_type": "execute_result",
          "data": {
            "text/plain": [
              "array([[ 1.125  , -0.15625],\n",
              "       [-0.1    ,  1.125  ]])"
            ]
          },
          "metadata": {},
          "execution_count": 152
        }
      ]
    },
    {
      "cell_type": "code",
      "source": [
        "# EIGEN DECOMPOSITION"
      ],
      "metadata": {
        "id": "mN65fEg1hT0U"
      },
      "execution_count": 153,
      "outputs": []
    },
    {
      "cell_type": "code",
      "source": [
        "v = np.array([3,1])\n",
        "v"
      ],
      "metadata": {
        "colab": {
          "base_uri": "https://localhost:8080/"
        },
        "id": "URB5uevThT3P",
        "outputId": "aaea5243-9f30-4230-b1a3-2727fc2a4f4f"
      },
      "execution_count": 154,
      "outputs": [
        {
          "output_type": "execute_result",
          "data": {
            "text/plain": [
              "array([3, 1])"
            ]
          },
          "metadata": {},
          "execution_count": 154
        }
      ]
    },
    {
      "cell_type": "code",
      "source": [
        "E =  np.array([[1,0],[0,-1]])\n",
        "E"
      ],
      "metadata": {
        "colab": {
          "base_uri": "https://localhost:8080/"
        },
        "id": "a5jrdpVnhT5w",
        "outputId": "9d291850-c765-4ff1-f579-6283e6b1b2e0"
      },
      "execution_count": 155,
      "outputs": [
        {
          "output_type": "execute_result",
          "data": {
            "text/plain": [
              "array([[ 1,  0],\n",
              "       [ 0, -1]])"
            ]
          },
          "metadata": {},
          "execution_count": 155
        }
      ]
    },
    {
      "cell_type": "code",
      "source": [
        "Ev = np.dot(E,v)\n",
        "Ev"
      ],
      "metadata": {
        "colab": {
          "base_uri": "https://localhost:8080/"
        },
        "id": "eVSXc9ouhT8G",
        "outputId": "f49608a2-0b42-4b5a-9f3c-839e6747870b"
      },
      "execution_count": 156,
      "outputs": [
        {
          "output_type": "execute_result",
          "data": {
            "text/plain": [
              "array([ 3, -1])"
            ]
          },
          "metadata": {},
          "execution_count": 156
        }
      ]
    },
    {
      "cell_type": "code",
      "source": [
        "Ve =  np.dot(v,E)\n",
        "Ve"
      ],
      "metadata": {
        "colab": {
          "base_uri": "https://localhost:8080/"
        },
        "id": "Y2rHQq9aLNYu",
        "outputId": "62940773-f0c2-46a7-e30c-c283fd7338b2"
      },
      "execution_count": 157,
      "outputs": [
        {
          "output_type": "execute_result",
          "data": {
            "text/plain": [
              "array([ 3, -1])"
            ]
          },
          "metadata": {},
          "execution_count": 157
        }
      ]
    },
    {
      "cell_type": "code",
      "source": [
        "#PRACTISE EIGENVECTOR AND EIGENVALUE\n",
        "\n",
        "A =  np.array([[2,3],[5,6]])\n",
        "A"
      ],
      "metadata": {
        "colab": {
          "base_uri": "https://localhost:8080/"
        },
        "id": "Kr03EpmEWBNG",
        "outputId": "e38f5ddd-6c96-46e7-8d57-d5c22b930570"
      },
      "execution_count": 158,
      "outputs": [
        {
          "output_type": "execute_result",
          "data": {
            "text/plain": [
              "array([[2, 3],\n",
              "       [5, 6]])"
            ]
          },
          "metadata": {},
          "execution_count": 158
        }
      ]
    },
    {
      "cell_type": "code",
      "source": [
        "# EIgenVector  -  A X =  Lambda X\n",
        "Lambdah , X =  np.linalg.eig(A)"
      ],
      "metadata": {
        "id": "CPiRDeDqodsQ"
      },
      "execution_count": 159,
      "outputs": []
    },
    {
      "cell_type": "code",
      "source": [
        "Lambdah"
      ],
      "metadata": {
        "colab": {
          "base_uri": "https://localhost:8080/"
        },
        "id": "SIVfDOUDGEyJ",
        "outputId": "0f6a5f73-661f-4199-ac22-46de25232807"
      },
      "execution_count": 160,
      "outputs": [
        {
          "output_type": "execute_result",
          "data": {
            "text/plain": [
              "array([-0.35889894,  8.35889894])"
            ]
          },
          "metadata": {},
          "execution_count": 160
        }
      ]
    },
    {
      "cell_type": "code",
      "source": [
        "X"
      ],
      "metadata": {
        "colab": {
          "base_uri": "https://localhost:8080/"
        },
        "id": "kpMxqvAYGE1l",
        "outputId": "6f36332a-1013-4816-e703-183eab47a4d1"
      },
      "execution_count": 161,
      "outputs": [
        {
          "output_type": "execute_result",
          "data": {
            "text/plain": [
              "array([[-0.78609474, -0.4266791 ],\n",
              "       [ 0.61810602, -0.90440309]])"
            ]
          },
          "metadata": {},
          "execution_count": 161
        }
      ]
    },
    {
      "cell_type": "code",
      "source": [
        "LHS =  np.dot(A, X)\n",
        "LHS"
      ],
      "metadata": {
        "colab": {
          "base_uri": "https://localhost:8080/"
        },
        "id": "SWqkL7J1GE49",
        "outputId": "4c84ee19-8687-4427-92a4-cdd312001523"
      },
      "execution_count": 162,
      "outputs": [
        {
          "output_type": "execute_result",
          "data": {
            "text/plain": [
              "array([[ 0.28212857, -3.56656746],\n",
              "       [-0.2218376 , -7.55981402]])"
            ]
          },
          "metadata": {},
          "execution_count": 162
        }
      ]
    },
    {
      "cell_type": "code",
      "source": [
        "RHS1 =  np.dot(Lambdah[0], X)\n",
        "RHS1"
      ],
      "metadata": {
        "colab": {
          "base_uri": "https://localhost:8080/"
        },
        "id": "ToqZA0uPGE8b",
        "outputId": "fc18c687-81bf-4853-ac23-f01ebd3140eb"
      },
      "execution_count": 163,
      "outputs": [
        {
          "output_type": "execute_result",
          "data": {
            "text/plain": [
              "array([[ 0.28212857,  0.15313468],\n",
              "       [-0.2218376 ,  0.32458931]])"
            ]
          },
          "metadata": {},
          "execution_count": 163
        }
      ]
    },
    {
      "cell_type": "code",
      "source": [
        "RHS2 =  np.dot(Lambdah[1], X)\n",
        "RHS2"
      ],
      "metadata": {
        "colab": {
          "base_uri": "https://localhost:8080/"
        },
        "id": "OiUip5ZMGE_V",
        "outputId": "97b850c5-e258-410b-e122-8ef4b59137df"
      },
      "execution_count": 164,
      "outputs": [
        {
          "output_type": "execute_result",
          "data": {
            "text/plain": [
              "array([[-6.57088653, -3.56656746],\n",
              "       [ 5.16668576, -7.55981402]])"
            ]
          },
          "metadata": {},
          "execution_count": 164
        }
      ]
    },
    {
      "cell_type": "markdown",
      "source": [
        "# FROM ABOVE EXAMPLE EigneValue = 1, since from the equ above lhs = rhs"
      ],
      "metadata": {
        "id": "Uc5gqCo7HHkN"
      }
    },
    {
      "cell_type": "code",
      "source": [
        "# FROM AOVE EXAMPLE EigneValue = 1, since from the equ above lhs = rhs"
      ],
      "metadata": {
        "id": "6JyVVTQIGFCg"
      },
      "execution_count": 165,
      "outputs": []
    },
    {
      "cell_type": "markdown",
      "source": [
        "# FINDING DETERNMINANT OF A SQUARE MATRIX"
      ],
      "metadata": {
        "id": "5fVTwfv4J-Fc"
      }
    },
    {
      "cell_type": "code",
      "source": [
        "#PRACTISE EIGENVECTOR AND EIGENVALUE\n",
        "\n",
        "A =  np.array([[2,3],[5,6]])\n",
        "A"
      ],
      "metadata": {
        "colab": {
          "base_uri": "https://localhost:8080/"
        },
        "id": "O80s5Qy5GFF1",
        "outputId": "e7870773-1ad4-40e8-fcc4-63149ccb24d6"
      },
      "execution_count": 166,
      "outputs": [
        {
          "output_type": "execute_result",
          "data": {
            "text/plain": [
              "array([[2, 3],\n",
              "       [5, 6]])"
            ]
          },
          "metadata": {},
          "execution_count": 166
        }
      ]
    },
    {
      "cell_type": "code",
      "source": [
        "DETERMINANT_A = np.linalg.det(A)\n",
        "DETERMINANT_A"
      ],
      "metadata": {
        "colab": {
          "base_uri": "https://localhost:8080/"
        },
        "id": "6kYCCK-sGFJ1",
        "outputId": "ff16a9f9-7df5-4404-c902-248eaaa4b934"
      },
      "execution_count": 167,
      "outputs": [
        {
          "output_type": "execute_result",
          "data": {
            "text/plain": [
              "-2.9999999999999982"
            ]
          },
          "metadata": {},
          "execution_count": 167
        }
      ]
    },
    {
      "cell_type": "code",
      "source": [
        "#DETERMINANT EXAMPLE WITH 3 * 3 MATRIX\n",
        "b =  np.array([[1,2,3],[-3,5,7],[9,0,3]])\n",
        "b"
      ],
      "metadata": {
        "colab": {
          "base_uri": "https://localhost:8080/"
        },
        "id": "BwCe8aeAGFM6",
        "outputId": "ce119268-6481-4d6e-dc3d-e2d310e3b663"
      },
      "execution_count": 168,
      "outputs": [
        {
          "output_type": "execute_result",
          "data": {
            "text/plain": [
              "array([[ 1,  2,  3],\n",
              "       [-3,  5,  7],\n",
              "       [ 9,  0,  3]])"
            ]
          },
          "metadata": {},
          "execution_count": 168
        }
      ]
    },
    {
      "cell_type": "code",
      "source": [
        "DETERM_B =  np.linalg.det(b)\n",
        "DETERM_B"
      ],
      "metadata": {
        "colab": {
          "base_uri": "https://localhost:8080/"
        },
        "id": "zha1QwtkwnGp",
        "outputId": "ba894284-c31a-448c-d157-df44e2019b3f"
      },
      "execution_count": 169,
      "outputs": [
        {
          "output_type": "execute_result",
          "data": {
            "text/plain": [
              "24.000000000000014"
            ]
          },
          "metadata": {},
          "execution_count": 169
        }
      ]
    },
    {
      "cell_type": "code",
      "source": [
        "# comparing eigenvalues and determinant\n",
        "# DETERMINANT OF MATRIX X = PRODUCT OF LAMBDA OF MATRIX X\n",
        "\n",
        "lambdaX, Vector = np.linalg.eig(b)\n",
        "print(lambdaX)\n",
        "print(Vector)"
      ],
      "metadata": {
        "colab": {
          "base_uri": "https://localhost:8080/"
        },
        "id": "XueUTaauwnLI",
        "outputId": "358c88f2-9f1f-490a-c260-bf080954cd91"
      },
      "execution_count": 170,
      "outputs": [
        {
          "output_type": "stream",
          "name": "stdout",
          "text": [
            "[ 9.07118585+0.j         -0.03559293+1.62618364j -0.03559293-1.62618364j]\n",
            "[[ 0.39281292+0.j          0.15261384-0.13840532j  0.15261384+0.13840532j]\n",
            " [ 0.71176703+0.j          0.81709013+0.j          0.81709013-0.j        ]\n",
            " [ 0.58231066+0.j         -0.52238454+0.13050323j -0.52238454-0.13050323j]]\n"
          ]
        }
      ]
    },
    {
      "cell_type": "code",
      "source": [
        "np.product(lambdaX)"
      ],
      "metadata": {
        "colab": {
          "base_uri": "https://localhost:8080/"
        },
        "id": "kYPViTUQwnPE",
        "outputId": "b7363a62-5008-490c-a9fa-753a41343633"
      },
      "execution_count": 171,
      "outputs": [
        {
          "output_type": "execute_result",
          "data": {
            "text/plain": [
              "(24.000000000000057+0j)"
            ]
          },
          "metadata": {},
          "execution_count": 171
        }
      ]
    },
    {
      "cell_type": "code",
      "source": [
        "#EIGENDECOMPOSITION"
      ],
      "metadata": {
        "id": "vDRxsIiFwnTa"
      },
      "execution_count": 172,
      "outputs": []
    },
    {
      "cell_type": "code",
      "source": [
        "A =  np.array([[1,2,3,4],[4,5,3,4],[6,7,3,3],[4,2,6,0]])\n",
        "A"
      ],
      "metadata": {
        "colab": {
          "base_uri": "https://localhost:8080/"
        },
        "id": "XohQJhzFWIgZ",
        "outputId": "a778a915-3e34-4316-e1c5-1562749fc2c9"
      },
      "execution_count": 173,
      "outputs": [
        {
          "output_type": "execute_result",
          "data": {
            "text/plain": [
              "array([[1, 2, 3, 4],\n",
              "       [4, 5, 3, 4],\n",
              "       [6, 7, 3, 3],\n",
              "       [4, 2, 6, 0]])"
            ]
          },
          "metadata": {},
          "execution_count": 173
        }
      ]
    },
    {
      "cell_type": "code",
      "source": [
        "lam, V = np.linalg.eig(A)"
      ],
      "metadata": {
        "id": "-vep4OaAWImO"
      },
      "execution_count": 174,
      "outputs": []
    },
    {
      "cell_type": "code",
      "source": [
        "print(lam)"
      ],
      "metadata": {
        "colab": {
          "base_uri": "https://localhost:8080/"
        },
        "id": "XgtF1nmKWIqc",
        "outputId": "baca6822-31aa-4abc-e1fd-dd597244dd21"
      },
      "execution_count": 175,
      "outputs": [
        {
          "output_type": "stream",
          "name": "stdout",
          "text": [
            "[14.38366247+0.j         -0.24603362+0.j         -2.56881443+1.89048854j\n",
            " -2.56881443-1.89048854j]\n"
          ]
        }
      ]
    },
    {
      "cell_type": "code",
      "source": [
        "V"
      ],
      "metadata": {
        "colab": {
          "base_uri": "https://localhost:8080/"
        },
        "id": "5LWCb4HRWItz",
        "outputId": "ec7e5a17-a98c-481f-c4ef-a741f9cad99a"
      },
      "execution_count": 176,
      "outputs": [
        {
          "output_type": "execute_result",
          "data": {
            "text/plain": [
              "array([[-0.35185444+0.j        ,  0.69821412+0.j        ,\n",
              "        -0.59035139+0.j        , -0.59035139-0.j        ],\n",
              "       [-0.53730677+0.j        , -0.59237163+0.j        ,\n",
              "        -0.02001805+0.19361547j, -0.02001805-0.19361547j],\n",
              "       [-0.63065517+0.j        , -0.27985208+0.j        ,\n",
              "         0.50091213+0.21668067j,  0.50091213-0.21668067j],\n",
              "       [-0.43563052+0.j        ,  0.2885753 +0.j        ,\n",
              "         0.16103857-0.53833137j,  0.16103857+0.53833137j]])"
            ]
          },
          "metadata": {},
          "execution_count": 176
        }
      ]
    },
    {
      "cell_type": "code",
      "source": [
        "# eigendecomposition   = V A V-1\n",
        "# v = vector, v-1 = inverse of vector, A = diagonal matrix\n",
        "A =  np.array([[2,5],[6,8]])\n",
        "A"
      ],
      "metadata": {
        "colab": {
          "base_uri": "https://localhost:8080/"
        },
        "id": "g3QRc-fDGFP5",
        "outputId": "0a4f0b81-1ef7-43ce-f05a-091a0aea0e8e"
      },
      "execution_count": 177,
      "outputs": [
        {
          "output_type": "execute_result",
          "data": {
            "text/plain": [
              "array([[2, 5],\n",
              "       [6, 8]])"
            ]
          },
          "metadata": {},
          "execution_count": 177
        }
      ]
    },
    {
      "cell_type": "code",
      "source": [
        "lambdas , V =  np.linalg.eig(A)"
      ],
      "metadata": {
        "id": "Sehi5-ME8mMU"
      },
      "execution_count": 178,
      "outputs": []
    },
    {
      "cell_type": "code",
      "source": [
        "lambdas"
      ],
      "metadata": {
        "colab": {
          "base_uri": "https://localhost:8080/"
        },
        "id": "37v7yTPi8mRL",
        "outputId": "08843175-3bd0-4662-b13e-beed1326e846"
      },
      "execution_count": 179,
      "outputs": [
        {
          "output_type": "execute_result",
          "data": {
            "text/plain": [
              "array([-1.244998, 11.244998])"
            ]
          },
          "metadata": {},
          "execution_count": 179
        }
      ]
    },
    {
      "cell_type": "code",
      "source": [
        "V"
      ],
      "metadata": {
        "colab": {
          "base_uri": "https://localhost:8080/"
        },
        "id": "v_kOeUSG8mV5",
        "outputId": "3de048eb-faa0-4a96-dd6a-4d3a716cfcd3"
      },
      "execution_count": 180,
      "outputs": [
        {
          "output_type": "execute_result",
          "data": {
            "text/plain": [
              "array([[-0.83882686, -0.4757161 ],\n",
              "       [ 0.54439829, -0.87959888]])"
            ]
          },
          "metadata": {},
          "execution_count": 180
        }
      ]
    },
    {
      "cell_type": "code",
      "source": [
        "Vminus =  np.linalg.inv(V)\n",
        "Vminus"
      ],
      "metadata": {
        "colab": {
          "base_uri": "https://localhost:8080/"
        },
        "id": "MJ0Nq_op8mak",
        "outputId": "ec1e572b-cbdd-4241-e281-b92a9357ee63"
      },
      "execution_count": 181,
      "outputs": [
        {
          "output_type": "execute_result",
          "data": {
            "text/plain": [
              "array([[-0.8824136 ,  0.4772384 ],\n",
              "       [-0.54614037, -0.84151111]])"
            ]
          },
          "metadata": {},
          "execution_count": 181
        }
      ]
    },
    {
      "cell_type": "code",
      "source": [
        "diagonal =  np.diag(A)\n",
        "diagonal"
      ],
      "metadata": {
        "colab": {
          "base_uri": "https://localhost:8080/"
        },
        "id": "EawzwLjL8mgE",
        "outputId": "bf3e1c19-2204-4e29-d586-30fb046135f9"
      },
      "execution_count": 182,
      "outputs": [
        {
          "output_type": "execute_result",
          "data": {
            "text/plain": [
              "array([2, 8])"
            ]
          },
          "metadata": {},
          "execution_count": 182
        }
      ]
    },
    {
      "cell_type": "code",
      "source": [
        "E = np.dot(V, np.dot(diagonal, Vminus))\n",
        "E"
      ],
      "metadata": {
        "colab": {
          "base_uri": "https://localhost:8080/"
        },
        "id": "YuGG7Qkh8nDe",
        "outputId": "cc138cd9-cb95-4f32-fe9f-567ad400c4aa"
      },
      "execution_count": 183,
      "outputs": [
        {
          "output_type": "execute_result",
          "data": {
            "text/plain": [
              "array([7.89382527, 1.7426691 ])"
            ]
          },
          "metadata": {},
          "execution_count": 183
        }
      ]
    },
    {
      "cell_type": "markdown",
      "source": [
        "# REAL World Applications of eigendecomposition use cases"
      ],
      "metadata": {
        "id": "nepkJG4W_M7n"
      }
    },
    {
      "cell_type": "code",
      "source": [
        "# real world eigendecomposition use cases"
      ],
      "metadata": {
        "id": "5WVOrict8nIv"
      },
      "execution_count": 184,
      "outputs": []
    },
    {
      "cell_type": "code",
      "source": [
        "# SVD for Decomposition EXAMPLE\n",
        "A = np.array([[3,4],[6,7]])\n",
        "A"
      ],
      "metadata": {
        "colab": {
          "base_uri": "https://localhost:8080/"
        },
        "id": "bTALN-LY_AQp",
        "outputId": "d2ffb591-89fa-4077-95d1-76ad05076b42"
      },
      "execution_count": 185,
      "outputs": [
        {
          "output_type": "execute_result",
          "data": {
            "text/plain": [
              "array([[3, 4],\n",
              "       [6, 7]])"
            ]
          },
          "metadata": {},
          "execution_count": 185
        }
      ]
    },
    {
      "cell_type": "code",
      "source": [
        "#SVD = U * D * VT\n",
        "U , D, VT =  np.linalg.svd(A)"
      ],
      "metadata": {
        "id": "m5S1xC4w_AWh"
      },
      "execution_count": 186,
      "outputs": []
    },
    {
      "cell_type": "code",
      "source": [
        "# M * M Matrix\n",
        "U"
      ],
      "metadata": {
        "colab": {
          "base_uri": "https://localhost:8080/"
        },
        "id": "dCLUFXWv_AbM",
        "outputId": "e1ba5559-224d-4496-eba5-1e4d676a71a2"
      },
      "execution_count": 187,
      "outputs": [
        {
          "output_type": "execute_result",
          "data": {
            "text/plain": [
              "array([[-0.47630464, -0.87928033],\n",
              "       [-0.87928033,  0.47630464]])"
            ]
          },
          "metadata": {},
          "execution_count": 187
        }
      ]
    },
    {
      "cell_type": "code",
      "source": [
        "# M * N Matrix\n",
        "D2 = np.diag(D)\n",
        "D2"
      ],
      "metadata": {
        "colab": {
          "base_uri": "https://localhost:8080/"
        },
        "id": "_CyCNeMYM7Ir",
        "outputId": "a809dc45-d3c5-4e4d-f787-01b8255b5805"
      },
      "execution_count": 188,
      "outputs": [
        {
          "output_type": "execute_result",
          "data": {
            "text/plain": [
              "array([[10.48418432,  0.        ],\n",
              "       [ 0.        ,  0.28614529]])"
            ]
          },
          "metadata": {},
          "execution_count": 188
        }
      ]
    },
    {
      "cell_type": "code",
      "source": [
        "# N * N Matrix\n",
        "VT"
      ],
      "metadata": {
        "colab": {
          "base_uri": "https://localhost:8080/"
        },
        "id": "MGVpH1tm_Aju",
        "outputId": "3a8c71d8-c978-41b3-f953-9e778ab3a828"
      },
      "execution_count": 189,
      "outputs": [
        {
          "output_type": "execute_result",
          "data": {
            "text/plain": [
              "array([[-0.63949618, -0.76879427],\n",
              "       [ 0.76879427, -0.63949618]])"
            ]
          },
          "metadata": {},
          "execution_count": 189
        }
      ]
    },
    {
      "cell_type": "code",
      "source": [
        "# LHS == RHS\n",
        "A = np.dot(U, np.dot(D2, VT))\n",
        "A"
      ],
      "metadata": {
        "colab": {
          "base_uri": "https://localhost:8080/"
        },
        "id": "pH4YNFpH_AoN",
        "outputId": "1489d88d-ef91-4254-c1ad-79c67a3095e0"
      },
      "execution_count": 190,
      "outputs": [
        {
          "output_type": "execute_result",
          "data": {
            "text/plain": [
              "array([[3., 4.],\n",
              "       [6., 7.]])"
            ]
          },
          "metadata": {},
          "execution_count": 190
        }
      ]
    },
    {
      "cell_type": "code",
      "source": [
        "# SVD for Image Compression\n",
        "#------------------\n",
        "from PIL import Image"
      ],
      "metadata": {
        "id": "AuffDpKf_As1"
      },
      "execution_count": 191,
      "outputs": []
    },
    {
      "cell_type": "code",
      "source": [
        "!wget https://static.scientificamerican.com/sciam/cache/file/4BC816FB-F21A-49C2-A9CB4D85FD64EF69_source.jpg"
      ],
      "metadata": {
        "colab": {
          "base_uri": "https://localhost:8080/"
        },
        "id": "PXsYbXGK_Aws",
        "outputId": "1dbddad1-1501-40cf-fa5e-aa982f2585ff"
      },
      "execution_count": 192,
      "outputs": [
        {
          "output_type": "stream",
          "name": "stdout",
          "text": [
            "--2024-09-06 09:04:41--  https://static.scientificamerican.com/sciam/cache/file/4BC816FB-F21A-49C2-A9CB4D85FD64EF69_source.jpg\n",
            "Resolving static.scientificamerican.com (static.scientificamerican.com)... 151.101.2.49, 151.101.66.49, 151.101.130.49, ...\n",
            "Connecting to static.scientificamerican.com (static.scientificamerican.com)|151.101.2.49|:443... connected.\n",
            "HTTP request sent, awaiting response... 200 OK\n",
            "Length: 378480 (370K) [image/jpeg]\n",
            "Saving to: ‘4BC816FB-F21A-49C2-A9CB4D85FD64EF69_source.jpg.1’\n",
            "\n",
            "\r          4BC816FB-   0%[                    ]       0  --.-KB/s               \r4BC816FB-F21A-49C2- 100%[===================>] 369.61K  --.-KB/s    in 0.04s   \n",
            "\n",
            "2024-09-06 09:04:42 (8.42 MB/s) - ‘4BC816FB-F21A-49C2-A9CB4D85FD64EF69_source.jpg.1’ saved [378480/378480]\n",
            "\n"
          ]
        }
      ]
    },
    {
      "cell_type": "code",
      "source": [
        "# Moore Penrose PseudoINverse for Non Square Matrix\n",
        "\n",
        "# A+ = UT D+ V -  Moore Penrose equation for Non Square matrix\n",
        "\n",
        "# We KNOW that SVD - is applied on square matrix\n",
        "# SVD =  U D VT\n",
        "# U = M * M matrix, VT =  N * N matrix, D = Diagonal, M * N matrix\n",
        "\n",
        "A = np.array([[3,6],[6,2],[7,3]]) # NON Squared Matrix or Non SIngular Matrix\n",
        "A"
      ],
      "metadata": {
        "colab": {
          "base_uri": "https://localhost:8080/"
        },
        "id": "2ylh7xKY_A3j",
        "outputId": "d46ad9ae-857b-4db6-b8b8-8a724ce987b1"
      },
      "execution_count": 193,
      "outputs": [
        {
          "output_type": "execute_result",
          "data": {
            "text/plain": [
              "array([[3, 6],\n",
              "       [6, 2],\n",
              "       [7, 3]])"
            ]
          },
          "metadata": {},
          "execution_count": 193
        }
      ]
    },
    {
      "cell_type": "code",
      "source": [
        "U,D,VT =  np.linalg.svd(A)"
      ],
      "metadata": {
        "id": "mxAgrzT_YIz-"
      },
      "execution_count": 194,
      "outputs": []
    },
    {
      "cell_type": "code",
      "source": [
        "U"
      ],
      "metadata": {
        "colab": {
          "base_uri": "https://localhost:8080/"
        },
        "id": "RPjBiLY0YI5A",
        "outputId": "d31e56b2-78cc-4abd-c6ec-797976c978ea"
      },
      "execution_count": 195,
      "outputs": [
        {
          "output_type": "execute_result",
          "data": {
            "text/plain": [
              "array([[-0.51325302,  0.85357559, -0.08933112],\n",
              "       [-0.54241982, -0.40328476, -0.73698178],\n",
              "       [-0.66509554, -0.32980315,  0.66998344]])"
            ]
          },
          "metadata": {},
          "execution_count": 195
        }
      ]
    },
    {
      "cell_type": "code",
      "source": [
        "D\n",
        "D = np.diag(D)\n",
        "D"
      ],
      "metadata": {
        "colab": {
          "base_uri": "https://localhost:8080/"
        },
        "id": "PvpuUkNrYI9l",
        "outputId": "c6558395-c3d8-4b35-e327-e550216cda4d"
      },
      "execution_count": 196,
      "outputs": [
        {
          "output_type": "execute_result",
          "data": {
            "text/plain": [
              "array([[11.28019116,  0.        ],\n",
              "       [ 0.        ,  3.969545  ]])"
            ]
          },
          "metadata": {},
          "execution_count": 196
        }
      ]
    },
    {
      "cell_type": "code",
      "source": [
        "1/11.28019116"
      ],
      "metadata": {
        "colab": {
          "base_uri": "https://localhost:8080/"
        },
        "id": "x0AyVNtk0w7s",
        "outputId": "f001b29d-c529-43aa-ddf7-cf4a5efa577c"
      },
      "execution_count": 197,
      "outputs": [
        {
          "output_type": "execute_result",
          "data": {
            "text/plain": [
              "0.08865097991832259"
            ]
          },
          "metadata": {},
          "execution_count": 197
        }
      ]
    },
    {
      "cell_type": "code",
      "source": [
        "1/3.969545"
      ],
      "metadata": {
        "colab": {
          "base_uri": "https://localhost:8080/"
        },
        "id": "3XjYSvX201TJ",
        "outputId": "d3af9405-7209-4bca-b20f-13cb88ec6ac6"
      },
      "execution_count": 198,
      "outputs": [
        {
          "output_type": "execute_result",
          "data": {
            "text/plain": [
              "0.25191804098454607"
            ]
          },
          "metadata": {},
          "execution_count": 198
        }
      ]
    },
    {
      "cell_type": "code",
      "source": [
        "VT"
      ],
      "metadata": {
        "colab": {
          "base_uri": "https://localhost:8080/"
        },
        "id": "iWd7g_4_YJCS",
        "outputId": "8277ef30-a75a-4531-b1fd-32a91595f2c1"
      },
      "execution_count": 199,
      "outputs": [
        {
          "output_type": "execute_result",
          "data": {
            "text/plain": [
              "array([[-0.83774704, -0.54605851],\n",
              "       [-0.54605851,  0.83774704]])"
            ]
          },
          "metadata": {},
          "execution_count": 199
        }
      ]
    },
    {
      "cell_type": "code",
      "source": [
        "DPlus = np.linalg.inv(D)\n",
        "DPlus"
      ],
      "metadata": {
        "colab": {
          "base_uri": "https://localhost:8080/"
        },
        "id": "SRN9jOOH8nNH",
        "outputId": "33cafa5d-7b44-4604-a1ee-a7dda4e00442"
      },
      "execution_count": 200,
      "outputs": [
        {
          "output_type": "execute_result",
          "data": {
            "text/plain": [
              "array([[0.08865098, 0.        ],\n",
              "       [0.        , 0.25191804]])"
            ]
          },
          "metadata": {},
          "execution_count": 200
        }
      ]
    },
    {
      "cell_type": "code",
      "source": [
        "UT =  U.T\n",
        "UT"
      ],
      "metadata": {
        "colab": {
          "base_uri": "https://localhost:8080/"
        },
        "id": "WB5ZR4uNYJGm",
        "outputId": "3aa395fa-7607-4f7d-c880-c4688a6e0996"
      },
      "execution_count": 201,
      "outputs": [
        {
          "output_type": "execute_result",
          "data": {
            "text/plain": [
              "array([[-0.51325302, -0.54241982, -0.66509554],\n",
              "       [ 0.85357559, -0.40328476, -0.32980315],\n",
              "       [-0.08933112, -0.73698178,  0.66998344]])"
            ]
          },
          "metadata": {},
          "execution_count": 201
        }
      ]
    },
    {
      "cell_type": "code",
      "source": [
        "V = VT.T\n",
        "V"
      ],
      "metadata": {
        "colab": {
          "base_uri": "https://localhost:8080/"
        },
        "id": "HoPZ64a7_BES",
        "outputId": "10bc39fd-44dd-4af3-997a-c18ab7a4c1a9"
      },
      "execution_count": 202,
      "outputs": [
        {
          "output_type": "execute_result",
          "data": {
            "text/plain": [
              "array([[-0.83774704, -0.54605851],\n",
              "       [-0.54605851,  0.83774704]])"
            ]
          },
          "metadata": {},
          "execution_count": 202
        }
      ]
    },
    {
      "cell_type": "code",
      "source": [
        "# DIRECT NUMPY LIBRARY TO FIND THE PSEUDOINVERSE\n",
        "A =  np.array([[4,3,5],[2,6,7]])\n",
        "A"
      ],
      "metadata": {
        "colab": {
          "base_uri": "https://localhost:8080/"
        },
        "id": "bnU6MRzOzpbl",
        "outputId": "c2283303-e858-46cb-e173-80eb53837b2a"
      },
      "execution_count": 203,
      "outputs": [
        {
          "output_type": "execute_result",
          "data": {
            "text/plain": [
              "array([[4, 3, 5],\n",
              "       [2, 6, 7]])"
            ]
          },
          "metadata": {},
          "execution_count": 203
        }
      ]
    },
    {
      "cell_type": "code",
      "source": [
        "MOOREPENROSE =  np.linalg.pinv(A)\n",
        "MOOREPENROSE"
      ],
      "metadata": {
        "colab": {
          "base_uri": "https://localhost:8080/"
        },
        "id": "2iqE7088zphS",
        "outputId": "1fa8a6b1-5bc5-4e41-ad26-cd807349cddc"
      },
      "execution_count": 204,
      "outputs": [
        {
          "output_type": "execute_result",
          "data": {
            "text/plain": [
              "array([[ 0.32098765, -0.19753086],\n",
              "       [-0.13580247,  0.16049383],\n",
              "       [ 0.02469136,  0.0617284 ]])"
            ]
          },
          "metadata": {},
          "execution_count": 204
        }
      ]
    },
    {
      "cell_type": "code",
      "source": [
        "# MOORE PENROSE PSEUDOINVERSE IN REAL LIFE LINEAR REGRESSION\n",
        "# y = mx + B\n",
        "#  m = slope, B = intercept\n",
        "x =  [1,2,3,4,5,6]\n",
        "y = [1.54,2.34,3.34,4.42,5.56,6.43]"
      ],
      "metadata": {
        "id": "05kVaGxazpmM"
      },
      "execution_count": 205,
      "outputs": []
    },
    {
      "cell_type": "code",
      "source": [
        "x"
      ],
      "metadata": {
        "colab": {
          "base_uri": "https://localhost:8080/"
        },
        "id": "KxVbXlZbzprA",
        "outputId": "cf56d6b2-4073-4af2-fe2b-11f7936fd334"
      },
      "execution_count": 206,
      "outputs": [
        {
          "output_type": "execute_result",
          "data": {
            "text/plain": [
              "[1, 2, 3, 4, 5, 6]"
            ]
          },
          "metadata": {},
          "execution_count": 206
        }
      ]
    },
    {
      "cell_type": "code",
      "source": [
        "len(x)"
      ],
      "metadata": {
        "colab": {
          "base_uri": "https://localhost:8080/"
        },
        "id": "apaMlB6QBR3r",
        "outputId": "49baceea-a609-4972-92d6-632922d7fee5"
      },
      "execution_count": 207,
      "outputs": [
        {
          "output_type": "execute_result",
          "data": {
            "text/plain": [
              "6"
            ]
          },
          "metadata": {},
          "execution_count": 207
        }
      ]
    },
    {
      "cell_type": "code",
      "source": [
        "y"
      ],
      "metadata": {
        "colab": {
          "base_uri": "https://localhost:8080/"
        },
        "id": "oLkYSS9fzpwj",
        "outputId": "00c000e9-481a-46f3-b5ad-8261de6f255d"
      },
      "execution_count": 208,
      "outputs": [
        {
          "output_type": "execute_result",
          "data": {
            "text/plain": [
              "[1.54, 2.34, 3.34, 4.42, 5.56, 6.43]"
            ]
          },
          "metadata": {},
          "execution_count": 208
        }
      ]
    },
    {
      "cell_type": "code",
      "source": [
        "fig , ax =  plt.subplots()\n",
        "plt.title('Linear regression Moore Penrose PSeudoInverse TEST')\n",
        "plt.xlabel(\"X points\")\n",
        "plt.ylabel(\"Y points\")\n",
        "_ = ax.scatter(x,y)"
      ],
      "metadata": {
        "colab": {
          "base_uri": "https://localhost:8080/",
          "height": 472
        },
        "id": "ePm4CSX_zp0s",
        "outputId": "f10482cf-704e-40f4-8c49-822046e09307"
      },
      "execution_count": 209,
      "outputs": [
        {
          "output_type": "display_data",
          "data": {
            "text/plain": [
              "<Figure size 640x480 with 1 Axes>"
            ],
            "image/png": "[encoded data removed]"
          },
          "metadata": {}
        }
      ]
    },
    {
      "cell_type": "code",
      "source": [
        "X0 = np.ones(len(x))\n",
        "X0"
      ],
      "metadata": {
        "colab": {
          "base_uri": "https://localhost:8080/"
        },
        "id": "FIHiHVEZzp5f",
        "outputId": "485fdeb2-2f55-4008-8f94-b68de9839b53"
      },
      "execution_count": 210,
      "outputs": [
        {
          "output_type": "execute_result",
          "data": {
            "text/plain": [
              "array([1., 1., 1., 1., 1., 1.])"
            ]
          },
          "metadata": {},
          "execution_count": 210
        }
      ]
    },
    {
      "cell_type": "code",
      "source": [
        "np.matrix(X0).T"
      ],
      "metadata": {
        "colab": {
          "base_uri": "https://localhost:8080/"
        },
        "id": "WzrEO6YkCTv4",
        "outputId": "200b98c5-6dd3-42e1-cc37-d6c289d89e1c"
      },
      "execution_count": 211,
      "outputs": [
        {
          "output_type": "execute_result",
          "data": {
            "text/plain": [
              "matrix([[1.],\n",
              "        [1.],\n",
              "        [1.],\n",
              "        [1.],\n",
              "        [1.],\n",
              "        [1.]])"
            ]
          },
          "metadata": {},
          "execution_count": 211
        }
      ]
    },
    {
      "cell_type": "code",
      "source": [
        "np.matrix(x).T"
      ],
      "metadata": {
        "colab": {
          "base_uri": "https://localhost:8080/"
        },
        "id": "f-bJw0s6Ckda",
        "outputId": "480aa41b-86ad-45ae-d007-a11fe8d0e494"
      },
      "execution_count": 212,
      "outputs": [
        {
          "output_type": "execute_result",
          "data": {
            "text/plain": [
              "matrix([[1],\n",
              "        [2],\n",
              "        [3],\n",
              "        [4],\n",
              "        [5],\n",
              "        [6]])"
            ]
          },
          "metadata": {},
          "execution_count": 212
        }
      ]
    },
    {
      "cell_type": "code",
      "source": [
        "Xnew = np.concatenate((np.matrix(X0).T, np.matrix(x).T), axis=1)\n",
        "Xnew"
      ],
      "metadata": {
        "colab": {
          "base_uri": "https://localhost:8080/"
        },
        "id": "4bpoZZRLzp_q",
        "outputId": "0abf8661-e70b-4c40-f119-12bfae287cff"
      },
      "execution_count": 213,
      "outputs": [
        {
          "output_type": "execute_result",
          "data": {
            "text/plain": [
              "matrix([[1., 1.],\n",
              "        [1., 2.],\n",
              "        [1., 3.],\n",
              "        [1., 4.],\n",
              "        [1., 5.],\n",
              "        [1., 6.]])"
            ]
          },
          "metadata": {},
          "execution_count": 213
        }
      ]
    },
    {
      "cell_type": "code",
      "source": [
        "# find wieghts from the equation\n",
        "# WE WILL GET SLOPE AND INTERCEPT USING THE MOORE PENROSE PSEUDOINVERSE\n",
        "\n",
        "\n",
        "# Y =  WX\n",
        "# Y * X-1 = W\n",
        "# W =  Y X+\n",
        "\n",
        "W = np.dot(np.linalg.pinv(Xnew),y)\n",
        "W\n",
        "\n",
        "# Y INtercept =  W[0][0] = 0.41933333\n",
        "# Slope of the Line =  W[0][1]"
      ],
      "metadata": {
        "colab": {
          "base_uri": "https://localhost:8080/"
        },
        "id": "TVcCBrqXzqyH",
        "outputId": "eeb34a5e-5d4f-4354-c215-7cfb6c0a0872"
      },
      "execution_count": 214,
      "outputs": [
        {
          "output_type": "execute_result",
          "data": {
            "text/plain": [
              "matrix([[0.41933333, 1.00542857]])"
            ]
          },
          "metadata": {},
          "execution_count": 214
        }
      ]
    },
    {
      "cell_type": "code",
      "source": [
        "WValues =  np.asarray(W)\n",
        "YIntercept = WValues[0][0]\n",
        "YSlope = WValues[0][1]"
      ],
      "metadata": {
        "id": "v-6-aLoBzq3H"
      },
      "execution_count": 215,
      "outputs": []
    },
    {
      "cell_type": "code",
      "source": [
        "YIntercept"
      ],
      "metadata": {
        "colab": {
          "base_uri": "https://localhost:8080/"
        },
        "id": "Pw32lHd1Dgw6",
        "outputId": "37f89418-d8e2-41ce-9030-ba537a56f6e6"
      },
      "execution_count": 216,
      "outputs": [
        {
          "output_type": "execute_result",
          "data": {
            "text/plain": [
              "0.4193333333333311"
            ]
          },
          "metadata": {},
          "execution_count": 216
        }
      ]
    },
    {
      "cell_type": "code",
      "source": [
        "YSlope"
      ],
      "metadata": {
        "colab": {
          "base_uri": "https://localhost:8080/"
        },
        "id": "nLyMLMvPDg4O",
        "outputId": "3b106c4d-cc08-45b1-b3c6-a9a7f67983cb"
      },
      "execution_count": 217,
      "outputs": [
        {
          "output_type": "execute_result",
          "data": {
            "text/plain": [
              "1.0054285714285722"
            ]
          },
          "metadata": {},
          "execution_count": 217
        }
      ]
    },
    {
      "cell_type": "markdown",
      "source": [
        "# PARTIAL Derivativrs using torch\n",
        "#Example = volume of Cylinder\n",
        "#V =  pie * r*r * l\n",
        "\n",
        "---\n",
        "\n"
      ],
      "metadata": {
        "id": "8-8C-hNUlJro"
      }
    },
    {
      "cell_type": "code",
      "source": [
        "r =  torch.tensor(3.).requires_grad_()\n",
        "r"
      ],
      "metadata": {
        "colab": {
          "base_uri": "https://localhost:8080/"
        },
        "id": "zYwT7QO6Dg85",
        "outputId": "5c4c053e-d464-4c27-bf87-c91d80f450f9"
      },
      "execution_count": 227,
      "outputs": [
        {
          "output_type": "execute_result",
          "data": {
            "text/plain": [
              "tensor(3., requires_grad=True)"
            ]
          },
          "metadata": {},
          "execution_count": 227
        }
      ]
    },
    {
      "cell_type": "code",
      "source": [
        "l =  torch.tensor(5.).requires_grad_()\n",
        "l"
      ],
      "metadata": {
        "colab": {
          "base_uri": "https://localhost:8080/"
        },
        "id": "dsBYG4aYDhCi",
        "outputId": "7f0aba00-9369-4e7c-cc6a-0c916a0bd1d1"
      },
      "execution_count": 228,
      "outputs": [
        {
          "output_type": "execute_result",
          "data": {
            "text/plain": [
              "tensor(5., requires_grad=True)"
            ]
          },
          "metadata": {},
          "execution_count": 228
        }
      ]
    },
    {
      "cell_type": "code",
      "source": [
        "v =  math.pi * r**2 * l\n",
        "v"
      ],
      "metadata": {
        "colab": {
          "base_uri": "https://localhost:8080/"
        },
        "id": "SxgzAwI8DhHH",
        "outputId": "5ca14155-b847-4a19-9866-0302f5d4bcd0"
      },
      "execution_count": 229,
      "outputs": [
        {
          "output_type": "execute_result",
          "data": {
            "text/plain": [
              "tensor(141.3717, grad_fn=<MulBackward0>)"
            ]
          },
          "metadata": {},
          "execution_count": 229
        }
      ]
    },
    {
      "cell_type": "code",
      "source": [
        "v.backward()"
      ],
      "metadata": {
        "id": "UULMX8LWDhL4"
      },
      "execution_count": 230,
      "outputs": []
    },
    {
      "cell_type": "code",
      "source": [
        "l.grad"
      ],
      "metadata": {
        "colab": {
          "base_uri": "https://localhost:8080/"
        },
        "id": "CCbyL6a7DhXk",
        "outputId": "e2955b7c-b2e5-42c7-fffa-a552aac0336b"
      },
      "execution_count": 232,
      "outputs": [
        {
          "output_type": "execute_result",
          "data": {
            "text/plain": [
              "tensor(28.2743)"
            ]
          },
          "metadata": {},
          "execution_count": 232
        }
      ]
    },
    {
      "cell_type": "code",
      "source": [
        "#derivate wrt to l\n",
        "v=  math.pi * r**2\n",
        "v"
      ],
      "metadata": {
        "colab": {
          "base_uri": "https://localhost:8080/"
        },
        "id": "uyvc7aWmDhcj",
        "outputId": "ad939a7d-7a15-48b0-da40-6fe1ede9e38f"
      },
      "execution_count": 234,
      "outputs": [
        {
          "output_type": "execute_result",
          "data": {
            "text/plain": [
              "tensor(28.2743, grad_fn=<MulBackward0>)"
            ]
          },
          "metadata": {},
          "execution_count": 234
        }
      ]
    },
    {
      "cell_type": "code",
      "source": [
        "r.grad"
      ],
      "metadata": {
        "colab": {
          "base_uri": "https://localhost:8080/"
        },
        "id": "r4UpHwCIDhha",
        "outputId": "a9933e1d-6ef1-406d-fe32-839d36f9b5c1"
      },
      "execution_count": 235,
      "outputs": [
        {
          "output_type": "execute_result",
          "data": {
            "text/plain": [
              "tensor(94.2478)"
            ]
          },
          "metadata": {},
          "execution_count": 235
        }
      ]
    },
    {
      "cell_type": "code",
      "source": [
        "#derivate wrt to r\n",
        "v=  math.pi * l * 2 * r\n",
        "v"
      ],
      "metadata": {
        "colab": {
          "base_uri": "https://localhost:8080/"
        },
        "id": "M4EeB3ypzq9W",
        "outputId": "379e3d96-5f64-42b4-b6b1-4a1193f1b9f3"
      },
      "execution_count": 236,
      "outputs": [
        {
          "output_type": "execute_result",
          "data": {
            "text/plain": [
              "tensor(94.2478, grad_fn=<MulBackward0>)"
            ]
          },
          "metadata": {},
          "execution_count": 236
        }
      ]
    },
    {
      "cell_type": "code",
      "source": [],
      "metadata": {
        "id": "GB0PgtbfnNFY"
      },
      "execution_count": null,
      "outputs": []
    }
  ]
}