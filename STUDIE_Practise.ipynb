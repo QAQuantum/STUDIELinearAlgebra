{
  "nbformat": 4,
  "nbformat_minor": 0,
  "metadata": {
    "colab": {
      "provenance": []
    },
    "kernelspec": {
      "name": "python3",
      "display_name": "Python 3"
    },
    "language_info": {
      "name": "python"
    }
  },
  "cells": [
    {
      "cell_type": "code",
      "execution_count": 1,
      "metadata": {
        "id": "L26dZx2EoZyR"
      },
      "outputs": [],
      "source": [
        "import numpy as np\n",
        "import matplotlib.pyplot as plt\n",
        "import torch"
      ]
    },
    {
      "cell_type": "code",
      "source": [
        "t = np.linspace(0,40,1000)"
      ],
      "metadata": {
        "id": "9vds1je1odSN"
      },
      "execution_count": 2,
      "outputs": []
    },
    {
      "cell_type": "code",
      "source": [
        "d_r =  2.5 * t\n",
        "d_s = 3 * (t-5)"
      ],
      "metadata": {
        "id": "ruc9frPaodVE"
      },
      "execution_count": 3,
      "outputs": []
    },
    {
      "cell_type": "code",
      "source": [
        "# RUN L2 NORM Idea\n",
        "x =  np.array([25,2,2])\n",
        "x"
      ],
      "metadata": {
        "colab": {
          "base_uri": "https://localhost:8080/"
        },
        "id": "KniHBT4zodX9",
        "outputId": "80d0171e-9071-4c0b-9c62-5a65c5e52a62"
      },
      "execution_count": 4,
      "outputs": [
        {
          "output_type": "execute_result",
          "data": {
            "text/plain": [
              "array([25,  2,  2])"
            ]
          },
          "metadata": {},
          "execution_count": 4
        }
      ]
    },
    {
      "cell_type": "code",
      "source": [
        "(25**2 + 2**2 + 2**2)**(1/2)"
      ],
      "metadata": {
        "colab": {
          "base_uri": "https://localhost:8080/"
        },
        "id": "RWmkxzg4odaP",
        "outputId": "05f20a6e-0ff6-4e92-b59c-da1bca2acb8b"
      },
      "execution_count": 5,
      "outputs": [
        {
          "output_type": "execute_result",
          "data": {
            "text/plain": [
              "25.15949125081825"
            ]
          },
          "metadata": {},
          "execution_count": 5
        }
      ]
    },
    {
      "cell_type": "code",
      "source": [
        "xx =  np.array([25,2,3,4])\n",
        "xx"
      ],
      "metadata": {
        "colab": {
          "base_uri": "https://localhost:8080/"
        },
        "id": "6ztpbxlToddI",
        "outputId": "f807cadc-4619-4112-beb0-2007c4bc6875"
      },
      "execution_count": 6,
      "outputs": [
        {
          "output_type": "execute_result",
          "data": {
            "text/plain": [
              "array([25,  2,  3,  4])"
            ]
          },
          "metadata": {},
          "execution_count": 6
        }
      ]
    },
    {
      "cell_type": "code",
      "source": [
        "(25**2 + 2**2 + 3**2 + 4**2)**(1/2)"
      ],
      "metadata": {
        "colab": {
          "base_uri": "https://localhost:8080/"
        },
        "id": "Ga5bqim9odf1",
        "outputId": "e342aab8-c3b5-4591-920d-306f862d0590"
      },
      "execution_count": 7,
      "outputs": [
        {
          "output_type": "execute_result",
          "data": {
            "text/plain": [
              "25.573423705088842"
            ]
          },
          "metadata": {},
          "execution_count": 7
        }
      ]
    },
    {
      "cell_type": "code",
      "source": [
        "# automatically  do a L2 NORMALIZE  using python library\n",
        "np.linalg.norm(x)"
      ],
      "metadata": {
        "colab": {
          "base_uri": "https://localhost:8080/"
        },
        "id": "bCYXjiUqodkU",
        "outputId": "5e5f99d1-410c-49ad-cac5-8bb00f74eb8d"
      },
      "execution_count": 8,
      "outputs": [
        {
          "output_type": "execute_result",
          "data": {
            "text/plain": [
              "25.15949125081825"
            ]
          },
          "metadata": {},
          "execution_count": 8
        }
      ]
    },
    {
      "cell_type": "code",
      "source": [
        "# RUN L1 NORM IDEA\n",
        "x =  np.array([25.22,-2,2.34])\n",
        "x"
      ],
      "metadata": {
        "colab": {
          "base_uri": "https://localhost:8080/"
        },
        "id": "9gq9j9pVodm_",
        "outputId": "5f28166c-930d-41c1-86ff-05087d759b66"
      },
      "execution_count": 9,
      "outputs": [
        {
          "output_type": "execute_result",
          "data": {
            "text/plain": [
              "array([25.22, -2.  ,  2.34])"
            ]
          },
          "metadata": {},
          "execution_count": 9
        }
      ]
    },
    {
      "cell_type": "code",
      "source": [
        "np.abs(25) + np.abs(-2) + np.abs(2)"
      ],
      "metadata": {
        "colab": {
          "base_uri": "https://localhost:8080/"
        },
        "id": "giPwcNJGApzp",
        "outputId": "2fea7ed9-58da-451f-dd20-eb2e16711978"
      },
      "execution_count": 10,
      "outputs": [
        {
          "output_type": "execute_result",
          "data": {
            "text/plain": [
              "29"
            ]
          },
          "metadata": {},
          "execution_count": 10
        }
      ]
    },
    {
      "cell_type": "code",
      "source": [
        "# RUN Squared L2 Norm\n",
        "x =  np.array([25,2,2])\n",
        "x"
      ],
      "metadata": {
        "colab": {
          "base_uri": "https://localhost:8080/"
        },
        "id": "WYLJpv0hAp2l",
        "outputId": "0fd09c3e-f7f0-43fd-d872-7697dafdd8e9"
      },
      "execution_count": 11,
      "outputs": [
        {
          "output_type": "execute_result",
          "data": {
            "text/plain": [
              "array([25,  2,  2])"
            ]
          },
          "metadata": {},
          "execution_count": 11
        }
      ]
    },
    {
      "cell_type": "code",
      "source": [
        "np.dot(x,x)"
      ],
      "metadata": {
        "colab": {
          "base_uri": "https://localhost:8080/"
        },
        "id": "s701KB9sAp5g",
        "outputId": "e691ad76-70e8-480d-a92b-f38c7818b2a3"
      },
      "execution_count": 12,
      "outputs": [
        {
          "output_type": "execute_result",
          "data": {
            "text/plain": [
              "633"
            ]
          },
          "metadata": {},
          "execution_count": 12
        }
      ]
    },
    {
      "cell_type": "code",
      "source": [
        "# MAX NORM\n",
        "x =  np.array([25,2,2])\n",
        "x"
      ],
      "metadata": {
        "colab": {
          "base_uri": "https://localhost:8080/"
        },
        "id": "T9W_74SlAp8k",
        "outputId": "1db63842-5b61-45ed-d5c2-cbed8af43f48"
      },
      "execution_count": 13,
      "outputs": [
        {
          "output_type": "execute_result",
          "data": {
            "text/plain": [
              "array([25,  2,  2])"
            ]
          },
          "metadata": {},
          "execution_count": 13
        }
      ]
    },
    {
      "cell_type": "code",
      "source": [
        "np.max(x)"
      ],
      "metadata": {
        "colab": {
          "base_uri": "https://localhost:8080/"
        },
        "id": "j_s5sbmQAqAA",
        "outputId": "43e1e5d2-a518-4be0-956a-266450bf9451"
      },
      "execution_count": 14,
      "outputs": [
        {
          "output_type": "execute_result",
          "data": {
            "text/plain": [
              "25"
            ]
          },
          "metadata": {},
          "execution_count": 14
        }
      ]
    },
    {
      "cell_type": "code",
      "source": [
        "x = np.array([[1,2,3],[4,5,6]])\n",
        "x"
      ],
      "metadata": {
        "colab": {
          "base_uri": "https://localhost:8080/"
        },
        "id": "JRlVgzUKAqCV",
        "outputId": "57effec6-7d0b-4e1f-b669-1e233e1d9a5b"
      },
      "execution_count": 15,
      "outputs": [
        {
          "output_type": "execute_result",
          "data": {
            "text/plain": [
              "array([[1, 2, 3],\n",
              "       [4, 5, 6]])"
            ]
          },
          "metadata": {},
          "execution_count": 15
        }
      ]
    },
    {
      "cell_type": "code",
      "source": [
        "x[:,1]"
      ],
      "metadata": {
        "colab": {
          "base_uri": "https://localhost:8080/"
        },
        "id": "ZeB_bCP_AqEs",
        "outputId": "3c2c6b46-6e41-4382-bc35-90beafeaeb1f"
      },
      "execution_count": 16,
      "outputs": [
        {
          "output_type": "execute_result",
          "data": {
            "text/plain": [
              "array([2, 5])"
            ]
          },
          "metadata": {},
          "execution_count": 16
        }
      ]
    },
    {
      "cell_type": "code",
      "source": [
        "x[1,:]"
      ],
      "metadata": {
        "colab": {
          "base_uri": "https://localhost:8080/"
        },
        "id": "bBzqloCSAqGl",
        "outputId": "9be8ac07-cc91-4449-e1c8-40cec40188ce"
      },
      "execution_count": 17,
      "outputs": [
        {
          "output_type": "execute_result",
          "data": {
            "text/plain": [
              "array([4, 5, 6])"
            ]
          },
          "metadata": {},
          "execution_count": 17
        }
      ]
    },
    {
      "cell_type": "code",
      "source": [
        "# REDUCTION\n"
      ],
      "metadata": {
        "id": "B73CJJVbAqJD"
      },
      "execution_count": 18,
      "outputs": []
    },
    {
      "cell_type": "code",
      "source": [
        "x =  np.array([[2,3],[4,5],[6,7]])\n",
        "x"
      ],
      "metadata": {
        "colab": {
          "base_uri": "https://localhost:8080/"
        },
        "id": "Q100ymbxodpl",
        "outputId": "140e803a-7de4-4ce7-c288-b49099ff1067"
      },
      "execution_count": 19,
      "outputs": [
        {
          "output_type": "execute_result",
          "data": {
            "text/plain": [
              "array([[2, 3],\n",
              "       [4, 5],\n",
              "       [6, 7]])"
            ]
          },
          "metadata": {},
          "execution_count": 19
        }
      ]
    },
    {
      "cell_type": "code",
      "source": [
        "x.sum()"
      ],
      "metadata": {
        "colab": {
          "base_uri": "https://localhost:8080/"
        },
        "id": "M4bvX9nyWAvw",
        "outputId": "17782d75-0ee1-4a44-e2ec-7d448115330f"
      },
      "execution_count": 20,
      "outputs": [
        {
          "output_type": "execute_result",
          "data": {
            "text/plain": [
              "27"
            ]
          },
          "metadata": {},
          "execution_count": 20
        }
      ]
    },
    {
      "cell_type": "code",
      "source": [
        "X_torch = torch.asarray([[2,3],[4,5],[6,7]])\n",
        "X_torch"
      ],
      "metadata": {
        "colab": {
          "base_uri": "https://localhost:8080/"
        },
        "id": "bgctQJqlW2WW",
        "outputId": "a7cd68d5-cf01-4ce1-d6b7-967b2a62d0f3"
      },
      "execution_count": 21,
      "outputs": [
        {
          "output_type": "execute_result",
          "data": {
            "text/plain": [
              "tensor([[2, 3],\n",
              "        [4, 5],\n",
              "        [6, 7]])"
            ]
          },
          "metadata": {},
          "execution_count": 21
        }
      ]
    },
    {
      "cell_type": "code",
      "source": [
        "torch.sum(X_torch)"
      ],
      "metadata": {
        "colab": {
          "base_uri": "https://localhost:8080/"
        },
        "id": "6hc9AYS0WAy3",
        "outputId": "1f929e78-97e0-4b85-9fdf-2f4eb1e4144e"
      },
      "execution_count": 22,
      "outputs": [
        {
          "output_type": "execute_result",
          "data": {
            "text/plain": [
              "tensor(27)"
            ]
          },
          "metadata": {},
          "execution_count": 22
        }
      ]
    },
    {
      "cell_type": "code",
      "source": [
        "# DOT PRoduct in ML and DL\n",
        "# Say 2 Vectors\n",
        "x = np.array([2,3,4])\n",
        "y =  np.array([4,3,2])"
      ],
      "metadata": {
        "id": "WiVH2WYJWA1V"
      },
      "execution_count": 23,
      "outputs": []
    },
    {
      "cell_type": "code",
      "source": [
        "x"
      ],
      "metadata": {
        "colab": {
          "base_uri": "https://localhost:8080/"
        },
        "id": "k8v4i26iWA4F",
        "outputId": "e4eab93b-d32a-4311-e3f2-5f453a23d1a1"
      },
      "execution_count": 24,
      "outputs": [
        {
          "output_type": "execute_result",
          "data": {
            "text/plain": [
              "array([2, 3, 4])"
            ]
          },
          "metadata": {},
          "execution_count": 24
        }
      ]
    },
    {
      "cell_type": "code",
      "source": [
        "y"
      ],
      "metadata": {
        "colab": {
          "base_uri": "https://localhost:8080/"
        },
        "id": "DFxjcrLdWA6i",
        "outputId": "031b98d7-ed87-44cc-f235-c3c32dea30f9"
      },
      "execution_count": 25,
      "outputs": [
        {
          "output_type": "execute_result",
          "data": {
            "text/plain": [
              "array([4, 3, 2])"
            ]
          },
          "metadata": {},
          "execution_count": 25
        }
      ]
    },
    {
      "cell_type": "code",
      "source": [
        "np.dot(x,y)"
      ],
      "metadata": {
        "colab": {
          "base_uri": "https://localhost:8080/"
        },
        "id": "1fmRHS9hWA9Q",
        "outputId": "18248dc7-eb62-4f28-d3e0-78510dada23a"
      },
      "execution_count": 26,
      "outputs": [
        {
          "output_type": "execute_result",
          "data": {
            "text/plain": [
              "25"
            ]
          },
          "metadata": {},
          "execution_count": 26
        }
      ]
    },
    {
      "cell_type": "code",
      "source": [
        "XP = np.linspace(-10,10,2000)\n",
        "XP"
      ],
      "metadata": {
        "colab": {
          "base_uri": "https://localhost:8080/"
        },
        "id": "tF6cVvdGWA_5",
        "outputId": "95578866-35ae-446a-fe05-bb2228da4f9f"
      },
      "execution_count": 27,
      "outputs": [
        {
          "output_type": "execute_result",
          "data": {
            "text/plain": [
              "array([-10.        ,  -9.989995  ,  -9.97998999, ...,   9.97998999,\n",
              "         9.989995  ,  10.        ])"
            ]
          },
          "metadata": {},
          "execution_count": 27
        }
      ]
    },
    {
      "cell_type": "code",
      "source": [
        "#Frebenous NORM"
      ],
      "metadata": {
        "id": "qycuX4_6WBCT"
      },
      "execution_count": 28,
      "outputs": []
    },
    {
      "cell_type": "code",
      "source": [
        "Xfn = np.array([[2,3], [4,5]])\n",
        "Xfn"
      ],
      "metadata": {
        "colab": {
          "base_uri": "https://localhost:8080/"
        },
        "id": "Y-f92PBwWBFR",
        "outputId": "f3b907b0-1a07-4795-b1a9-ab849cf3c1b3"
      },
      "execution_count": 29,
      "outputs": [
        {
          "output_type": "execute_result",
          "data": {
            "text/plain": [
              "array([[2, 3],\n",
              "       [4, 5]])"
            ]
          },
          "metadata": {},
          "execution_count": 29
        }
      ]
    },
    {
      "cell_type": "code",
      "source": [
        "np.linalg.norm(Xfn)"
      ],
      "metadata": {
        "colab": {
          "base_uri": "https://localhost:8080/"
        },
        "id": "xe7-N_rZWBIc",
        "outputId": "30237441-5daf-456f-e528-549e4c11bf80"
      },
      "execution_count": 30,
      "outputs": [
        {
          "output_type": "execute_result",
          "data": {
            "text/plain": [
              "7.3484692283495345"
            ]
          },
          "metadata": {},
          "execution_count": 30
        }
      ]
    },
    {
      "cell_type": "code",
      "source": [
        "Xsym =  np.array([[1,2,3],[4,5,6],[7,8,9]])\n",
        "Xsym"
      ],
      "metadata": {
        "colab": {
          "base_uri": "https://localhost:8080/"
        },
        "id": "iUDIKNl5WBKd",
        "outputId": "3d09fbcc-78da-45b1-daa7-b5ef316fe29d"
      },
      "execution_count": 31,
      "outputs": [
        {
          "output_type": "execute_result",
          "data": {
            "text/plain": [
              "array([[1, 2, 3],\n",
              "       [4, 5, 6],\n",
              "       [7, 8, 9]])"
            ]
          },
          "metadata": {},
          "execution_count": 31
        }
      ]
    },
    {
      "cell_type": "code",
      "source": [
        "Xsym.T"
      ],
      "metadata": {
        "colab": {
          "base_uri": "https://localhost:8080/"
        },
        "id": "xVBWruv7LNIq",
        "outputId": "c691fe94-96d8-4369-c623-85d2989aec3d"
      },
      "execution_count": 32,
      "outputs": [
        {
          "output_type": "execute_result",
          "data": {
            "text/plain": [
              "array([[1, 4, 7],\n",
              "       [2, 5, 8],\n",
              "       [3, 6, 9]])"
            ]
          },
          "metadata": {},
          "execution_count": 32
        }
      ]
    },
    {
      "cell_type": "code",
      "source": [
        "Xsym == Xsym.T"
      ],
      "metadata": {
        "colab": {
          "base_uri": "https://localhost:8080/"
        },
        "id": "2zSxa62eLNLh",
        "outputId": "f6ff9911-f35b-46dc-811c-f3f01521b8c8"
      },
      "execution_count": 33,
      "outputs": [
        {
          "output_type": "execute_result",
          "data": {
            "text/plain": [
              "array([[ True, False, False],\n",
              "       [False,  True, False],\n",
              "       [False, False,  True]])"
            ]
          },
          "metadata": {},
          "execution_count": 33
        }
      ]
    },
    {
      "cell_type": "code",
      "source": [
        "XidentifyM =  np.array([[1,0,0,0],[0,1,0,0],[0,0,1,0],[0,0,0,1]])\n",
        "XidentifyM"
      ],
      "metadata": {
        "colab": {
          "base_uri": "https://localhost:8080/"
        },
        "id": "jdzcy1_ALNOf",
        "outputId": "605f0dd8-baf9-499c-e32c-412a6ecf115a"
      },
      "execution_count": 34,
      "outputs": [
        {
          "output_type": "execute_result",
          "data": {
            "text/plain": [
              "array([[1, 0, 0, 0],\n",
              "       [0, 1, 0, 0],\n",
              "       [0, 0, 1, 0],\n",
              "       [0, 0, 0, 1]])"
            ]
          },
          "metadata": {},
          "execution_count": 34
        }
      ]
    },
    {
      "cell_type": "code",
      "source": [
        "XidentifyM.T"
      ],
      "metadata": {
        "colab": {
          "base_uri": "https://localhost:8080/"
        },
        "id": "fzKdhUSsLNRA",
        "outputId": "c8d1e9c1-aa13-4899-a79c-5b8bda9b790c"
      },
      "execution_count": 35,
      "outputs": [
        {
          "output_type": "execute_result",
          "data": {
            "text/plain": [
              "array([[1, 0, 0, 0],\n",
              "       [0, 1, 0, 0],\n",
              "       [0, 0, 1, 0],\n",
              "       [0, 0, 0, 1]])"
            ]
          },
          "metadata": {},
          "execution_count": 35
        }
      ]
    },
    {
      "cell_type": "code",
      "source": [
        "XidentifyM == XidentifyM.T"
      ],
      "metadata": {
        "colab": {
          "base_uri": "https://localhost:8080/"
        },
        "id": "XHyh2FF_LNTp",
        "outputId": "269d2c50-f73d-47d5-f602-3d5d4fe8959a"
      },
      "execution_count": 36,
      "outputs": [
        {
          "output_type": "execute_result",
          "data": {
            "text/plain": [
              "array([[ True,  True,  True,  True],\n",
              "       [ True,  True,  True,  True],\n",
              "       [ True,  True,  True,  True],\n",
              "       [ True,  True,  True,  True]])"
            ]
          },
          "metadata": {},
          "execution_count": 36
        }
      ]
    },
    {
      "cell_type": "code",
      "source": [
        "Xmat = np.array([2,3,4,5])\n",
        "Xmat"
      ],
      "metadata": {
        "colab": {
          "base_uri": "https://localhost:8080/"
        },
        "id": "2Q-8Enq8LNWT",
        "outputId": "e14db04d-957c-4616-cc7b-a6843e027ef1"
      },
      "execution_count": 37,
      "outputs": [
        {
          "output_type": "execute_result",
          "data": {
            "text/plain": [
              "array([2, 3, 4, 5])"
            ]
          },
          "metadata": {},
          "execution_count": 37
        }
      ]
    },
    {
      "cell_type": "code",
      "source": [
        "np.dot(XidentifyM, Xmat)"
      ],
      "metadata": {
        "colab": {
          "base_uri": "https://localhost:8080/"
        },
        "id": "hTaaRKZVhTf5",
        "outputId": "618789d7-6318-4b4c-959a-80a55dc8f658"
      },
      "execution_count": 38,
      "outputs": [
        {
          "output_type": "execute_result",
          "data": {
            "text/plain": [
              "array([2, 3, 4, 5])"
            ]
          },
          "metadata": {},
          "execution_count": 38
        }
      ]
    },
    {
      "cell_type": "code",
      "source": [
        "Xnew =  np.array([[3,4],[5,60]])\n",
        "Xnew"
      ],
      "metadata": {
        "colab": {
          "base_uri": "https://localhost:8080/"
        },
        "id": "rP3TsV6ShTij",
        "outputId": "1fda8d4c-0f25-4bb3-a1d8-c47e14309a8f"
      },
      "execution_count": 39,
      "outputs": [
        {
          "output_type": "execute_result",
          "data": {
            "text/plain": [
              "array([[ 3,  4],\n",
              "       [ 5, 60]])"
            ]
          },
          "metadata": {},
          "execution_count": 39
        }
      ]
    },
    {
      "cell_type": "code",
      "source": [
        "np.linalg.inv(Xnew)"
      ],
      "metadata": {
        "colab": {
          "base_uri": "https://localhost:8080/"
        },
        "id": "SBmaUSObhTnZ",
        "outputId": "e1c67439-bb74-4d23-ef33-7c5d600a2a1d"
      },
      "execution_count": 40,
      "outputs": [
        {
          "output_type": "execute_result",
          "data": {
            "text/plain": [
              "array([[ 0.375  , -0.025  ],\n",
              "       [-0.03125,  0.01875]])"
            ]
          },
          "metadata": {},
          "execution_count": 40
        }
      ]
    },
    {
      "cell_type": "code",
      "source": [
        "# X * Xinversion =  Identity Matrix (output)\n",
        "IdentityM = Xnew * np.linalg.inv(Xnew)"
      ],
      "metadata": {
        "id": "AMjYA_qAhTqZ"
      },
      "execution_count": 41,
      "outputs": []
    },
    {
      "cell_type": "code",
      "source": [
        "IdentityM"
      ],
      "metadata": {
        "colab": {
          "base_uri": "https://localhost:8080/"
        },
        "id": "x_8YMqKrhTtE",
        "outputId": "68bf090a-adc7-4220-bfa2-ade16246d00a"
      },
      "execution_count": 42,
      "outputs": [
        {
          "output_type": "execute_result",
          "data": {
            "text/plain": [
              "array([[ 1.125  , -0.1    ],\n",
              "       [-0.15625,  1.125  ]])"
            ]
          },
          "metadata": {},
          "execution_count": 42
        }
      ]
    },
    {
      "cell_type": "code",
      "source": [
        "IdentityM.T"
      ],
      "metadata": {
        "colab": {
          "base_uri": "https://localhost:8080/"
        },
        "id": "JbkaNB4KhTxc",
        "outputId": "52158707-685a-4a9a-c323-46373f790ccd"
      },
      "execution_count": 43,
      "outputs": [
        {
          "output_type": "execute_result",
          "data": {
            "text/plain": [
              "array([[ 1.125  , -0.15625],\n",
              "       [-0.1    ,  1.125  ]])"
            ]
          },
          "metadata": {},
          "execution_count": 43
        }
      ]
    },
    {
      "cell_type": "code",
      "source": [
        "# EIGEN DECOMPOSITION"
      ],
      "metadata": {
        "id": "mN65fEg1hT0U"
      },
      "execution_count": 44,
      "outputs": []
    },
    {
      "cell_type": "code",
      "source": [
        "v = np.array([3,1])\n",
        "v"
      ],
      "metadata": {
        "colab": {
          "base_uri": "https://localhost:8080/"
        },
        "id": "URB5uevThT3P",
        "outputId": "8f74f42d-356a-4537-d618-2ebe5ffbc571"
      },
      "execution_count": 45,
      "outputs": [
        {
          "output_type": "execute_result",
          "data": {
            "text/plain": [
              "array([3, 1])"
            ]
          },
          "metadata": {},
          "execution_count": 45
        }
      ]
    },
    {
      "cell_type": "code",
      "source": [
        "E =  np.array([[1,0],[0,-1]])\n",
        "E"
      ],
      "metadata": {
        "colab": {
          "base_uri": "https://localhost:8080/"
        },
        "id": "a5jrdpVnhT5w",
        "outputId": "d9d5ed67-f88f-423c-b10a-baf4c06f0329"
      },
      "execution_count": 46,
      "outputs": [
        {
          "output_type": "execute_result",
          "data": {
            "text/plain": [
              "array([[ 1,  0],\n",
              "       [ 0, -1]])"
            ]
          },
          "metadata": {},
          "execution_count": 46
        }
      ]
    },
    {
      "cell_type": "code",
      "source": [
        "Ev = np.dot(E,v)\n",
        "Ev"
      ],
      "metadata": {
        "colab": {
          "base_uri": "https://localhost:8080/"
        },
        "id": "eVSXc9ouhT8G",
        "outputId": "a43e9e81-f437-4ed9-c90b-8216f2664fd0"
      },
      "execution_count": 47,
      "outputs": [
        {
          "output_type": "execute_result",
          "data": {
            "text/plain": [
              "array([ 3, -1])"
            ]
          },
          "metadata": {},
          "execution_count": 47
        }
      ]
    },
    {
      "cell_type": "code",
      "source": [
        "Ve =  np.dot(v,E)\n",
        "Ve"
      ],
      "metadata": {
        "colab": {
          "base_uri": "https://localhost:8080/"
        },
        "id": "Y2rHQq9aLNYu",
        "outputId": "5d7691b1-5ba5-403e-cc5b-9880efc6ffab"
      },
      "execution_count": 48,
      "outputs": [
        {
          "output_type": "execute_result",
          "data": {
            "text/plain": [
              "array([ 3, -1])"
            ]
          },
          "metadata": {},
          "execution_count": 48
        }
      ]
    },
    {
      "cell_type": "code",
      "source": [
        "#PRACTISE EIGENVECTOR AND EIGENVALUE\n",
        "\n",
        "A =  np.array([[2,3],[5,6]])\n",
        "A"
      ],
      "metadata": {
        "colab": {
          "base_uri": "https://localhost:8080/"
        },
        "id": "Kr03EpmEWBNG",
        "outputId": "98540cdb-4e7b-427e-d5a4-22951edc99e5"
      },
      "execution_count": 49,
      "outputs": [
        {
          "output_type": "execute_result",
          "data": {
            "text/plain": [
              "array([[2, 3],\n",
              "       [5, 6]])"
            ]
          },
          "metadata": {},
          "execution_count": 49
        }
      ]
    },
    {
      "cell_type": "code",
      "source": [
        "# EIgenVector  -  A X =  Lambda X\n",
        "Lambdah , X =  np.linalg.eig(A)"
      ],
      "metadata": {
        "id": "CPiRDeDqodsQ"
      },
      "execution_count": 50,
      "outputs": []
    },
    {
      "cell_type": "code",
      "source": [
        "Lambdah"
      ],
      "metadata": {
        "colab": {
          "base_uri": "https://localhost:8080/"
        },
        "id": "SIVfDOUDGEyJ",
        "outputId": "f3165041-0237-498e-a0e9-a9b757ab95a9"
      },
      "execution_count": 51,
      "outputs": [
        {
          "output_type": "execute_result",
          "data": {
            "text/plain": [
              "array([-0.35889894,  8.35889894])"
            ]
          },
          "metadata": {},
          "execution_count": 51
        }
      ]
    },
    {
      "cell_type": "code",
      "source": [
        "X"
      ],
      "metadata": {
        "colab": {
          "base_uri": "https://localhost:8080/"
        },
        "id": "kpMxqvAYGE1l",
        "outputId": "3ac47861-271b-4402-f533-c01166c5a026"
      },
      "execution_count": 52,
      "outputs": [
        {
          "output_type": "execute_result",
          "data": {
            "text/plain": [
              "array([[-0.78609474, -0.4266791 ],\n",
              "       [ 0.61810602, -0.90440309]])"
            ]
          },
          "metadata": {},
          "execution_count": 52
        }
      ]
    },
    {
      "cell_type": "code",
      "source": [
        "LHS =  np.dot(A, X)\n",
        "LHS"
      ],
      "metadata": {
        "colab": {
          "base_uri": "https://localhost:8080/"
        },
        "id": "SWqkL7J1GE49",
        "outputId": "57988a9b-346b-45d2-e909-67403f7efa29"
      },
      "execution_count": 53,
      "outputs": [
        {
          "output_type": "execute_result",
          "data": {
            "text/plain": [
              "array([[ 0.28212857, -3.56656746],\n",
              "       [-0.2218376 , -7.55981402]])"
            ]
          },
          "metadata": {},
          "execution_count": 53
        }
      ]
    },
    {
      "cell_type": "code",
      "source": [
        "RHS1 =  np.dot(Lambdah[0], X)\n",
        "RHS1"
      ],
      "metadata": {
        "colab": {
          "base_uri": "https://localhost:8080/"
        },
        "id": "ToqZA0uPGE8b",
        "outputId": "e6c29343-e84d-4bf7-e593-9bad90fb46c8"
      },
      "execution_count": 54,
      "outputs": [
        {
          "output_type": "execute_result",
          "data": {
            "text/plain": [
              "array([[ 0.28212857,  0.15313468],\n",
              "       [-0.2218376 ,  0.32458931]])"
            ]
          },
          "metadata": {},
          "execution_count": 54
        }
      ]
    },
    {
      "cell_type": "code",
      "source": [
        "RHS2 =  np.dot(Lambdah[1], X)\n",
        "RHS2"
      ],
      "metadata": {
        "colab": {
          "base_uri": "https://localhost:8080/"
        },
        "id": "OiUip5ZMGE_V",
        "outputId": "61f10c6d-1e5d-4cad-808b-0b9dfb6e0eb7"
      },
      "execution_count": 55,
      "outputs": [
        {
          "output_type": "execute_result",
          "data": {
            "text/plain": [
              "array([[-6.57088653, -3.56656746],\n",
              "       [ 5.16668576, -7.55981402]])"
            ]
          },
          "metadata": {},
          "execution_count": 55
        }
      ]
    },
    {
      "cell_type": "markdown",
      "source": [
        "# FROM ABOVE EXAMPLE EigneValue = 1, since from the equ above lhs = rhs"
      ],
      "metadata": {
        "id": "Uc5gqCo7HHkN"
      }
    },
    {
      "cell_type": "code",
      "source": [
        "# FROM AOVE EXAMPLE EigneValue = 1, since from the equ above lhs = rhs"
      ],
      "metadata": {
        "id": "6JyVVTQIGFCg"
      },
      "execution_count": 56,
      "outputs": []
    },
    {
      "cell_type": "markdown",
      "source": [
        "# FINDING DETERNMINANT OF A SQUARE MATRIX"
      ],
      "metadata": {
        "id": "5fVTwfv4J-Fc"
      }
    },
    {
      "cell_type": "code",
      "source": [
        "#PRACTISE EIGENVECTOR AND EIGENVALUE\n",
        "\n",
        "A =  np.array([[2,3],[5,6]])\n",
        "A"
      ],
      "metadata": {
        "colab": {
          "base_uri": "https://localhost:8080/"
        },
        "id": "O80s5Qy5GFF1",
        "outputId": "7ae8746c-09b6-4f92-c0f8-f2e65e5e2270"
      },
      "execution_count": 57,
      "outputs": [
        {
          "output_type": "execute_result",
          "data": {
            "text/plain": [
              "array([[2, 3],\n",
              "       [5, 6]])"
            ]
          },
          "metadata": {},
          "execution_count": 57
        }
      ]
    },
    {
      "cell_type": "code",
      "source": [
        "DETERMINANT_A = np.linalg.det(A)\n",
        "DETERMINANT_A"
      ],
      "metadata": {
        "colab": {
          "base_uri": "https://localhost:8080/"
        },
        "id": "6kYCCK-sGFJ1",
        "outputId": "95e0b720-e065-4069-e8f6-9f22e5e49dcc"
      },
      "execution_count": 58,
      "outputs": [
        {
          "output_type": "execute_result",
          "data": {
            "text/plain": [
              "-2.9999999999999982"
            ]
          },
          "metadata": {},
          "execution_count": 58
        }
      ]
    },
    {
      "cell_type": "code",
      "source": [
        "#DETERMINANT EXAMPLE WITH 3 * 3 MATRIX\n",
        "b =  np.array([[1,2,3],[-3,5,7],[9,0,3]])\n",
        "b"
      ],
      "metadata": {
        "colab": {
          "base_uri": "https://localhost:8080/"
        },
        "id": "BwCe8aeAGFM6",
        "outputId": "0346da2b-5725-44bc-be63-349c31dbe126"
      },
      "execution_count": 59,
      "outputs": [
        {
          "output_type": "execute_result",
          "data": {
            "text/plain": [
              "array([[ 1,  2,  3],\n",
              "       [-3,  5,  7],\n",
              "       [ 9,  0,  3]])"
            ]
          },
          "metadata": {},
          "execution_count": 59
        }
      ]
    },
    {
      "cell_type": "code",
      "source": [
        "DETERM_B =  np.linalg.det(b)\n",
        "DETERM_B"
      ],
      "metadata": {
        "colab": {
          "base_uri": "https://localhost:8080/"
        },
        "id": "zha1QwtkwnGp",
        "outputId": "dd00d40e-2acc-4df6-abad-3b6d129776fe"
      },
      "execution_count": 60,
      "outputs": [
        {
          "output_type": "execute_result",
          "data": {
            "text/plain": [
              "24.000000000000014"
            ]
          },
          "metadata": {},
          "execution_count": 60
        }
      ]
    },
    {
      "cell_type": "code",
      "source": [
        "# comparing eigenvalues and determinant\n",
        "# DETERMINANT OF MATRIX X = PRODUCT OF LAMBDA OF MATRIX X\n",
        "\n",
        "lambdaX, Vector = np.linalg.eig(b)\n",
        "print(lambdaX)\n",
        "print(Vector)"
      ],
      "metadata": {
        "colab": {
          "base_uri": "https://localhost:8080/"
        },
        "id": "XueUTaauwnLI",
        "outputId": "24bb5806-3bd7-4dc3-dc01-5e71903b07ca"
      },
      "execution_count": 61,
      "outputs": [
        {
          "output_type": "stream",
          "name": "stdout",
          "text": [
            "[ 9.07118585+0.j         -0.03559293+1.62618364j -0.03559293-1.62618364j]\n",
            "[[ 0.39281292+0.j          0.15261384-0.13840532j  0.15261384+0.13840532j]\n",
            " [ 0.71176703+0.j          0.81709013+0.j          0.81709013-0.j        ]\n",
            " [ 0.58231066+0.j         -0.52238454+0.13050323j -0.52238454-0.13050323j]]\n"
          ]
        }
      ]
    },
    {
      "cell_type": "code",
      "source": [
        "np.product(lambdaX)"
      ],
      "metadata": {
        "colab": {
          "base_uri": "https://localhost:8080/"
        },
        "id": "kYPViTUQwnPE",
        "outputId": "63cadd2b-b1ce-4702-915a-ed9636434b4b"
      },
      "execution_count": 62,
      "outputs": [
        {
          "output_type": "execute_result",
          "data": {
            "text/plain": [
              "(24.000000000000057+0j)"
            ]
          },
          "metadata": {},
          "execution_count": 62
        }
      ]
    },
    {
      "cell_type": "code",
      "source": [
        "#EIGENDECOMPOSITION"
      ],
      "metadata": {
        "id": "vDRxsIiFwnTa"
      },
      "execution_count": 63,
      "outputs": []
    },
    {
      "cell_type": "code",
      "source": [
        "A =  np.array([[1,2,3,4],[4,5,3,4],[6,7,3,3],[4,2,6,0]])\n",
        "A"
      ],
      "metadata": {
        "colab": {
          "base_uri": "https://localhost:8080/"
        },
        "id": "XohQJhzFWIgZ",
        "outputId": "ce71c6f8-e2a8-4bf3-dff2-eb6bafde7ab1"
      },
      "execution_count": 64,
      "outputs": [
        {
          "output_type": "execute_result",
          "data": {
            "text/plain": [
              "array([[1, 2, 3, 4],\n",
              "       [4, 5, 3, 4],\n",
              "       [6, 7, 3, 3],\n",
              "       [4, 2, 6, 0]])"
            ]
          },
          "metadata": {},
          "execution_count": 64
        }
      ]
    },
    {
      "cell_type": "code",
      "source": [
        "lam, V = np.linalg.eig(A)"
      ],
      "metadata": {
        "id": "-vep4OaAWImO"
      },
      "execution_count": 65,
      "outputs": []
    },
    {
      "cell_type": "code",
      "source": [
        "print(lam)"
      ],
      "metadata": {
        "colab": {
          "base_uri": "https://localhost:8080/"
        },
        "id": "XgtF1nmKWIqc",
        "outputId": "0b0308a4-023f-41cf-f6e8-ffb81be471ee"
      },
      "execution_count": 66,
      "outputs": [
        {
          "output_type": "stream",
          "name": "stdout",
          "text": [
            "[14.38366247+0.j         -0.24603362+0.j         -2.56881443+1.89048854j\n",
            " -2.56881443-1.89048854j]\n"
          ]
        }
      ]
    },
    {
      "cell_type": "code",
      "source": [
        "V"
      ],
      "metadata": {
        "colab": {
          "base_uri": "https://localhost:8080/"
        },
        "id": "5LWCb4HRWItz",
        "outputId": "69c4b913-87eb-4564-f043-c0bb4c7db4bf"
      },
      "execution_count": 67,
      "outputs": [
        {
          "output_type": "execute_result",
          "data": {
            "text/plain": [
              "array([[-0.35185444+0.j        ,  0.69821412+0.j        ,\n",
              "        -0.59035139+0.j        , -0.59035139-0.j        ],\n",
              "       [-0.53730677+0.j        , -0.59237163+0.j        ,\n",
              "        -0.02001805+0.19361547j, -0.02001805-0.19361547j],\n",
              "       [-0.63065517+0.j        , -0.27985208+0.j        ,\n",
              "         0.50091213+0.21668067j,  0.50091213-0.21668067j],\n",
              "       [-0.43563052+0.j        ,  0.2885753 +0.j        ,\n",
              "         0.16103857-0.53833137j,  0.16103857+0.53833137j]])"
            ]
          },
          "metadata": {},
          "execution_count": 67
        }
      ]
    },
    {
      "cell_type": "code",
      "source": [
        "# eigendecomposition   = V A V-1\n",
        "# v = vector, v-1 = inverse of vector, A = diagonal matrix\n",
        "A =  np.array([[2,5],[6,8]])\n",
        "A"
      ],
      "metadata": {
        "colab": {
          "base_uri": "https://localhost:8080/"
        },
        "id": "g3QRc-fDGFP5",
        "outputId": "ad60cb5e-698a-4e28-969b-9f2aeb899c7e"
      },
      "execution_count": 68,
      "outputs": [
        {
          "output_type": "execute_result",
          "data": {
            "text/plain": [
              "array([[2, 5],\n",
              "       [6, 8]])"
            ]
          },
          "metadata": {},
          "execution_count": 68
        }
      ]
    },
    {
      "cell_type": "code",
      "source": [
        "lambdas , V =  np.linalg.eig(A)"
      ],
      "metadata": {
        "id": "Sehi5-ME8mMU"
      },
      "execution_count": 69,
      "outputs": []
    },
    {
      "cell_type": "code",
      "source": [
        "lambdas"
      ],
      "metadata": {
        "colab": {
          "base_uri": "https://localhost:8080/"
        },
        "id": "37v7yTPi8mRL",
        "outputId": "cd8648ea-dfde-4ef8-e953-b2c36840af84"
      },
      "execution_count": 70,
      "outputs": [
        {
          "output_type": "execute_result",
          "data": {
            "text/plain": [
              "array([-1.244998, 11.244998])"
            ]
          },
          "metadata": {},
          "execution_count": 70
        }
      ]
    },
    {
      "cell_type": "code",
      "source": [
        "V"
      ],
      "metadata": {
        "colab": {
          "base_uri": "https://localhost:8080/"
        },
        "id": "v_kOeUSG8mV5",
        "outputId": "d95971d3-cd44-4cf7-f7aa-061a975bfd3b"
      },
      "execution_count": 71,
      "outputs": [
        {
          "output_type": "execute_result",
          "data": {
            "text/plain": [
              "array([[-0.83882686, -0.4757161 ],\n",
              "       [ 0.54439829, -0.87959888]])"
            ]
          },
          "metadata": {},
          "execution_count": 71
        }
      ]
    },
    {
      "cell_type": "code",
      "source": [
        "Vminus =  np.linalg.inv(V)\n",
        "Vminus"
      ],
      "metadata": {
        "colab": {
          "base_uri": "https://localhost:8080/"
        },
        "id": "MJ0Nq_op8mak",
        "outputId": "ae7e1125-fa1e-469d-b177-bf8edf7aa71f"
      },
      "execution_count": 72,
      "outputs": [
        {
          "output_type": "execute_result",
          "data": {
            "text/plain": [
              "array([[-0.8824136 ,  0.4772384 ],\n",
              "       [-0.54614037, -0.84151111]])"
            ]
          },
          "metadata": {},
          "execution_count": 72
        }
      ]
    },
    {
      "cell_type": "code",
      "source": [
        "diagonal =  np.diag(A)\n",
        "diagonal"
      ],
      "metadata": {
        "colab": {
          "base_uri": "https://localhost:8080/"
        },
        "id": "EawzwLjL8mgE",
        "outputId": "f13ffeba-85bf-4994-c29d-d35d77d1e7a4"
      },
      "execution_count": 73,
      "outputs": [
        {
          "output_type": "execute_result",
          "data": {
            "text/plain": [
              "array([2, 8])"
            ]
          },
          "metadata": {},
          "execution_count": 73
        }
      ]
    },
    {
      "cell_type": "code",
      "source": [
        "E = np.dot(V, np.dot(diagonal, Vminus))\n",
        "E"
      ],
      "metadata": {
        "colab": {
          "base_uri": "https://localhost:8080/"
        },
        "id": "YuGG7Qkh8nDe",
        "outputId": "df48a27a-d6cb-45f2-db58-904ce6f3b4a8"
      },
      "execution_count": 74,
      "outputs": [
        {
          "output_type": "execute_result",
          "data": {
            "text/plain": [
              "array([7.89382527, 1.7426691 ])"
            ]
          },
          "metadata": {},
          "execution_count": 74
        }
      ]
    },
    {
      "cell_type": "markdown",
      "source": [
        "# REAL World Applications of eigendecomposition use cases"
      ],
      "metadata": {
        "id": "nepkJG4W_M7n"
      }
    },
    {
      "cell_type": "code",
      "source": [
        "# real world eigendecomposition use cases"
      ],
      "metadata": {
        "id": "5WVOrict8nIv"
      },
      "execution_count": 75,
      "outputs": []
    },
    {
      "cell_type": "code",
      "source": [
        "# SVD for Decomposition EXAMPLE\n",
        "A = np.array([[3,4],[6,7]])\n",
        "A"
      ],
      "metadata": {
        "colab": {
          "base_uri": "https://localhost:8080/"
        },
        "id": "bTALN-LY_AQp",
        "outputId": "ffc88740-4f55-4041-99cb-b3e5b562f03a"
      },
      "execution_count": 76,
      "outputs": [
        {
          "output_type": "execute_result",
          "data": {
            "text/plain": [
              "array([[3, 4],\n",
              "       [6, 7]])"
            ]
          },
          "metadata": {},
          "execution_count": 76
        }
      ]
    },
    {
      "cell_type": "code",
      "source": [
        "#SVD = U * D * VT\n",
        "U , D, VT =  np.linalg.svd(A)"
      ],
      "metadata": {
        "id": "m5S1xC4w_AWh"
      },
      "execution_count": 77,
      "outputs": []
    },
    {
      "cell_type": "code",
      "source": [
        "# M * M Matrix\n",
        "U"
      ],
      "metadata": {
        "colab": {
          "base_uri": "https://localhost:8080/"
        },
        "id": "dCLUFXWv_AbM",
        "outputId": "1d200589-3ab1-4c92-f18c-f321437f1151"
      },
      "execution_count": 78,
      "outputs": [
        {
          "output_type": "execute_result",
          "data": {
            "text/plain": [
              "array([[-0.47630464, -0.87928033],\n",
              "       [-0.87928033,  0.47630464]])"
            ]
          },
          "metadata": {},
          "execution_count": 78
        }
      ]
    },
    {
      "cell_type": "code",
      "source": [
        "# M * N Matrix\n",
        "D2 = np.diag(D)\n",
        "D2"
      ],
      "metadata": {
        "colab": {
          "base_uri": "https://localhost:8080/"
        },
        "id": "_CyCNeMYM7Ir",
        "outputId": "ccde73aa-6a9e-4feb-b36d-aa30ef718583"
      },
      "execution_count": 83,
      "outputs": [
        {
          "output_type": "execute_result",
          "data": {
            "text/plain": [
              "array([[10.48418432,  0.        ],\n",
              "       [ 0.        ,  0.28614529]])"
            ]
          },
          "metadata": {},
          "execution_count": 83
        }
      ]
    },
    {
      "cell_type": "code",
      "source": [
        "# N * N Matrix\n",
        "VT"
      ],
      "metadata": {
        "colab": {
          "base_uri": "https://localhost:8080/"
        },
        "id": "MGVpH1tm_Aju",
        "outputId": "77ef3c5a-7d4e-401d-f7b0-c45e9d98ee0b"
      },
      "execution_count": 80,
      "outputs": [
        {
          "output_type": "execute_result",
          "data": {
            "text/plain": [
              "array([[-0.63949618, -0.76879427],\n",
              "       [ 0.76879427, -0.63949618]])"
            ]
          },
          "metadata": {},
          "execution_count": 80
        }
      ]
    },
    {
      "cell_type": "code",
      "source": [
        "# LHS == RHS\n",
        "A = np.dot(U, np.dot(D2, VT))\n",
        "A"
      ],
      "metadata": {
        "colab": {
          "base_uri": "https://localhost:8080/"
        },
        "id": "pH4YNFpH_AoN",
        "outputId": "2d2de2d8-a550-4c0e-83ec-2a7bbbaa6286"
      },
      "execution_count": 85,
      "outputs": [
        {
          "output_type": "execute_result",
          "data": {
            "text/plain": [
              "array([[3., 4.],\n",
              "       [6., 7.]])"
            ]
          },
          "metadata": {},
          "execution_count": 85
        }
      ]
    },
    {
      "cell_type": "code",
      "source": [
        "# SVD for Image Compression\n",
        "#------------------\n",
        "from PIL import Image"
      ],
      "metadata": {
        "id": "AuffDpKf_As1"
      },
      "execution_count": 86,
      "outputs": []
    },
    {
      "cell_type": "code",
      "source": [
        "!wget https://static.scientificamerican.com/sciam/cache/file/4BC816FB-F21A-49C2-A9CB4D85FD64EF69_source.jpg"
      ],
      "metadata": {
        "colab": {
          "base_uri": "https://localhost:8080/"
        },
        "id": "PXsYbXGK_Aws",
        "outputId": "bad33fba-8305-496e-ac79-9ee222d23a19"
      },
      "execution_count": 87,
      "outputs": [
        {
          "output_type": "stream",
          "name": "stdout",
          "text": [
            "--2024-09-03 18:47:26--  https://static.scientificamerican.com/sciam/cache/file/4BC816FB-F21A-49C2-A9CB4D85FD64EF69_source.jpg\n",
            "Resolving static.scientificamerican.com (static.scientificamerican.com)... 151.101.2.49, 151.101.66.49, 151.101.130.49, ...\n",
            "Connecting to static.scientificamerican.com (static.scientificamerican.com)|151.101.2.49|:443... connected.\n",
            "HTTP request sent, awaiting response... 200 OK\n",
            "Length: 378480 (370K) [image/jpeg]\n",
            "Saving to: ‘4BC816FB-F21A-49C2-A9CB4D85FD64EF69_source.jpg’\n",
            "\n",
            "4BC816FB-F21A-49C2- 100%[===================>] 369.61K  --.-KB/s    in 0.02s   \n",
            "\n",
            "2024-09-03 18:47:26 (19.4 MB/s) - ‘4BC816FB-F21A-49C2-A9CB4D85FD64EF69_source.jpg’ saved [378480/378480]\n",
            "\n"
          ]
        }
      ]
    },
    {
      "cell_type": "code",
      "source": [],
      "metadata": {
        "id": "2ylh7xKY_A3j"
      },
      "execution_count": null,
      "outputs": []
    },
    {
      "cell_type": "code",
      "source": [],
      "metadata": {
        "id": "HoPZ64a7_BES"
      },
      "execution_count": null,
      "outputs": []
    },
    {
      "cell_type": "code",
      "source": [],
      "metadata": {
        "id": "SRN9jOOH8nNH"
      },
      "execution_count": null,
      "outputs": []
    }
  ]
}